{
 "cells": [
  {
   "cell_type": "code",
   "execution_count": 1,
   "id": "5652ce4c-c75d-4484-a43a-31ffcf7a2b97",
   "metadata": {
    "tags": []
   },
   "outputs": [],
   "source": [
    "# Supress Warnings \n",
    "import warnings\n",
    "warnings.filterwarnings('ignore')\n",
    "\n",
    "# Plotting\n",
    "import matplotlib.pyplot as plt\n",
    "\n",
    "# Data science\n",
    "import pandas as pd\n",
    "import numpy as np\n",
    "\n",
    "# Machine Learning\n",
    "from sklearn.linear_model import LogisticRegression\n",
    "from sklearn.metrics import f1_score, accuracy_score, ConfusionMatrixDisplay\n",
    "from sklearn.model_selection import StratifiedKFold\n",
    "\n",
    "# Geospatial\n",
    "import contextily as cx\n",
    "import xarray as xr\n",
    "import zarr # Not referenced, but required for xarray\n",
    "\n",
    "# Import Planetary Computer tools\n",
    "import fsspec\n",
    "import pystac\n",
    "\n",
    "# Other\n",
    "import os\n",
    "import zipfile\n",
    "from itertools import cycle\n",
    "\n",
    "# Path to data folder with provided material\n",
    "data_path = '../'"
   ]
  },
  {
   "cell_type": "markdown",
   "id": "639ef421-3dea-4894-a605-d1695657335b",
   "metadata": {},
   "source": [
    "## Response Variable\n",
    "\n",
    "Before we can build our model, we need to load in the frog occurrences data and generate our response variable. To do this, we first need to unzip the training data and store it on our machine. Then we can write a function that abstracts the loading process, with the option of providing a bounding box to only take those occurrences within a region of interest.\n"
   ]
  },
  {
   "cell_type": "code",
   "execution_count": 12,
   "id": "cf305264-0afd-40c3-a9b1-3b782593ee84",
   "metadata": {},
   "outputs": [],
   "source": [
    "#if not os.path.exists(data_path+'training_data/'):\n",
    " #   os.mkdir(data_path+'training_data/')\n",
    "  #  with zipfile.ZipFile(data_path+'GBIF_training_data.zip', 'r') as zip_ref:\n",
    "   #     zip_ref.extractall(data_path+'training_data/')\n",
    "        \n",
    "def filter_bbox(frogs, bbox):\n",
    "    frogs = frogs[lambda x: \n",
    "        (x.decimalLongitude >= bbox[0]) &\n",
    "        (x.decimalLatitude >= bbox[1]) &\n",
    "        (x.decimalLongitude <= bbox[2]) &\n",
    "        (x.decimalLatitude <= bbox[3])\n",
    "    ]\n",
    "    return frogs\n",
    "\n",
    "def get_frogs(file, year_range=None, bbox=None):\n",
    "    \"\"\"Returns the dataframe of all frog occurrences for the bounding box specified.\"\"\"\n",
    "    columns = [\n",
    "        'gbifID','eventDate','country','continent','stateProvince',\n",
    "        'decimalLatitude','decimalLongitude','species'\n",
    "    ]\n",
    "    country_names = {\n",
    "        'AU':'Australia', 'CR':'Costa Rica', 'ZA':'South Africa','MX':'Mexico','HN':'Honduras',\n",
    "        'MZ':'Mozambique','BW':'Botswana','MW':'Malawi','CO':'Colombia','PA':'Panama','NI':'Nicaragua',\n",
    "        'BZ':'Belize','ZW':'Zimbabwe','SZ':'Eswatini','ZM':'Zambia','GT':'Guatemala','LS':'Lesotho',\n",
    "        'SV':'El Salvador', 'AO':'Angola', np.nan:'unknown or invalid'\n",
    "    }\n",
    "    continent_names = {\n",
    "        'AU':'Australia', 'CR':'Central America', 'ZA':'Africa','MX':'Central America','HN':'Central America',\n",
    "        'MZ':'Africa','BW':'Africa','MW':'Africa','CO':'Central America','PA':'Central America',\n",
    "        'NI':'Central America','BZ':'Central America','ZW':'Africa','SZ':'Africa','ZM':'Africa',\n",
    "        'GT':'Central America','LS':'Africa','SV':'Central America','AO':'Africa', np.nan:'unknown or invalid' \n",
    "    }\n",
    "    frogs = (\n",
    "        pd.read_csv('occurrence.txt', sep='\\t', parse_dates=['eventDate'])\n",
    "        .assign(\n",
    "            country =  lambda x: x.countryCode.map(country_names),\n",
    "            continent =  lambda x: x.countryCode.map(continent_names),\n",
    "            species = lambda x: x.species.str.title()\n",
    "        )\n",
    "        [columns]\n",
    "    )\n",
    "    if year_range is not None:\n",
    "        frogs = frogs[lambda x: \n",
    "            (x.eventDate.dt.year >= year_range[0]) & \n",
    "            (x.eventDate.dt.year <= year_range[1])\n",
    "        ]\n",
    "    if bbox is not None:\n",
    "        frogs = filter_bbox(frogs, bbox)\n",
    "    return frogs"
   ]
  },
  {
   "cell_type": "markdown",
   "id": "47010498-24fb-42b1-8ccc-3f7f89235c59",
   "metadata": {},
   "source": [
    "### Sub-sampling\n",
    "\n",
    "For this demonstration, we will constrain our search to frogs in the Greater Sydney area found between the start of 2015 to the end of 2019. This gives a varied landscape of bushland, plains, rivers, and urban areas. This is done by providing `year_range` and `bbox` parameters to the get_frogs function we defined above."
   ]
  },
  {
   "cell_type": "code",
   "execution_count": 3,
   "id": "9d75a397-ae04-48ae-89bd-406a209be3dd",
   "metadata": {},
   "outputs": [],
   "source": [
    "# Define the bounding box for Greater Sydney, NSW\n",
    "region_name = 'Greater Sydney, NSW'\n",
    "min_lon, min_lat = (150.15, -34.25)  # Lower-left corner\n",
    "max_lon, max_lat = (151.15, -33.25)  # Upper-right corner\n",
    "\n",
    "bbox = (min_lon, min_lat, max_lon, max_lat)\n",
    "min_lon1, min_lat1 = (144.8, -38.5)  # Lower-left corner\n",
    "max_lon1, max_lat1 = (145.8, -37.5)  # Upper-right corner\n",
    "bbox1 = (min_lon1, min_lat1, max_lon1, max_lat1)\n",
    "\n",
    "min_lon2, min_lat2 = (150.7, -33.5)  # Lower-left corner\n",
    "max_lon2, max_lat2 = (151.7, -32.5)  # Upper-right corner\n",
    "bbox2 = (min_lon2, min_lat2, max_lon2, max_lat2)\n",
    "\n",
    "min_lon3, min_lat3 = (152.6, -29.0)  # Lower-left corner\n",
    "max_lon3, max_lat3 = (153.6, -28.0)  # Upper-right corner\n",
    "bbox3 = (min_lon3, min_lat3, max_lon3, max_lat3)\n",
    "\n",
    "min_lon4, min_lat4 = (145.0, -17.7)  # Lower-left corner\n",
    "max_lon4, max_lat4 = (146.0, -16.7)  # Upper-right corner\n",
    "bbox4 = (min_lon4, min_lat4, max_lon4, max_lat4)\n",
    "\n",
    "min_lon5, min_lat5 = (115.7, -32.5)  # Lower-left corner\n",
    "max_lon5, max_lat5 = (116.7, -31.5)  # Upper-right corner\n",
    "bbox5 = (min_lon5, min_lat5, max_lon5, max_lat5)\n",
    "\n",
    "# Load in data\n",
    "#all_frog_data = get_frogs(data_path+'/training_data/occurrence.txt', year_range=(2015, 2019), bbox=bbox)\n",
    "boxes = [bbox1,bbox2,bbox3,bbox4,bbox5]\n",
    "#all_frog_data = get_frogs('occurrence.txt', year_range=(2015, 2019), bbox=bbox)\n",
    "#all_frog_data[('species'=='Litoria Fallax')]\n",
    "\n",
    "#get_frogs('occurrence.txt', year_range=(2015, 2019), bbox=i"
   ]
  },
  {
   "cell_type": "code",
   "execution_count": 4,
   "id": "86bbb89b",
   "metadata": {},
   "outputs": [
    {
     "ename": "NameError",
     "evalue": "name 'all_frog_data' is not defined",
     "output_type": "error",
     "traceback": [
      "\u001b[1;31m---------------------------------------------------------------------------\u001b[0m",
      "\u001b[1;31mNameError\u001b[0m                                 Traceback (most recent call last)",
      "Input \u001b[1;32mIn [4]\u001b[0m, in \u001b[0;36m<cell line: 1>\u001b[1;34m()\u001b[0m\n\u001b[1;32m----> 1\u001b[0m \u001b[43mall_frog_data\u001b[49m\n",
      "\u001b[1;31mNameError\u001b[0m: name 'all_frog_data' is not defined"
     ]
    }
   ],
   "source": [
    "all_frog_data"
   ]
  },
  {
   "cell_type": "raw",
   "id": "bde66cf0",
   "metadata": {},
   "source": [
    "all_frog_data = all_frogs[0].merge(all_frogs[1],how = 'outer').merge(all_frogs[2],how = 'outer').merge(all_frogs[3],how = 'outer').merge(all_frogs[4],how = 'outer')\n",
    "\n",
    "all_frog_data"
   ]
  },
  {
   "cell_type": "markdown",
   "id": "41413967-761e-46ab-9b2c-310532e8537a",
   "metadata": {},
   "source": [
    "### Addressing bias\n",
    "\n",
    "Below we define some functions to assist in plotting the frog data. This will assist us in identifying two main areas of bias. We then use these functions to plot the frog species distributions of each country. A more detailed exploration of the training dataset for this challenge can be found in the [dataset summary notebook](supplementary_notebooks/dataset_summary.ipynb)."
   ]
  },
  {
   "cell_type": "code",
   "execution_count": 14,
   "id": "8ef2c61a-7739-4218-99bf-9db393937442",
   "metadata": {},
   "outputs": [
    {
     "data": {
      "text/html": [
       "<div>\n",
       "<style scoped>\n",
       "    .dataframe tbody tr th:only-of-type {\n",
       "        vertical-align: middle;\n",
       "    }\n",
       "\n",
       "    .dataframe tbody tr th {\n",
       "        vertical-align: top;\n",
       "    }\n",
       "\n",
       "    .dataframe thead th {\n",
       "        text-align: right;\n",
       "    }\n",
       "</style>\n",
       "<table border=\"1\" class=\"dataframe\">\n",
       "  <thead>\n",
       "    <tr style=\"text-align: right;\">\n",
       "      <th></th>\n",
       "      <th>gbifID</th>\n",
       "      <th>eventDate</th>\n",
       "      <th>country</th>\n",
       "      <th>continent</th>\n",
       "      <th>stateProvince</th>\n",
       "      <th>decimalLatitude</th>\n",
       "      <th>decimalLongitude</th>\n",
       "      <th>species</th>\n",
       "      <th>occurrenceStatus</th>\n",
       "    </tr>\n",
       "  </thead>\n",
       "  <tbody>\n",
       "    <tr>\n",
       "      <th>935</th>\n",
       "      <td>3108894201</td>\n",
       "      <td>2017-11-12</td>\n",
       "      <td>Australia</td>\n",
       "      <td>Australia</td>\n",
       "      <td>New South Wales</td>\n",
       "      <td>-33.699881</td>\n",
       "      <td>151.043367</td>\n",
       "      <td>Litoria Fallax</td>\n",
       "      <td>1</td>\n",
       "    </tr>\n",
       "    <tr>\n",
       "      <th>941</th>\n",
       "      <td>3108882429</td>\n",
       "      <td>2019-09-19</td>\n",
       "      <td>Australia</td>\n",
       "      <td>Australia</td>\n",
       "      <td>New South Wales</td>\n",
       "      <td>-33.955790</td>\n",
       "      <td>150.976815</td>\n",
       "      <td>Crinia Signifera</td>\n",
       "      <td>0</td>\n",
       "    </tr>\n",
       "    <tr>\n",
       "      <th>944</th>\n",
       "      <td>3108953063</td>\n",
       "      <td>2019-11-03</td>\n",
       "      <td>Australia</td>\n",
       "      <td>Australia</td>\n",
       "      <td>New South Wales</td>\n",
       "      <td>-33.755278</td>\n",
       "      <td>150.623221</td>\n",
       "      <td>Litoria Fallax</td>\n",
       "      <td>1</td>\n",
       "    </tr>\n",
       "    <tr>\n",
       "      <th>945</th>\n",
       "      <td>3108952573</td>\n",
       "      <td>2019-11-04</td>\n",
       "      <td>Australia</td>\n",
       "      <td>Australia</td>\n",
       "      <td>New South Wales</td>\n",
       "      <td>-33.755291</td>\n",
       "      <td>150.623651</td>\n",
       "      <td>Litoria Fallax</td>\n",
       "      <td>1</td>\n",
       "    </tr>\n",
       "    <tr>\n",
       "      <th>980</th>\n",
       "      <td>1452200212</td>\n",
       "      <td>2015-06-16</td>\n",
       "      <td>Australia</td>\n",
       "      <td>Australia</td>\n",
       "      <td>New South Wales</td>\n",
       "      <td>-33.951844</td>\n",
       "      <td>150.870430</td>\n",
       "      <td>Litoria Fallax</td>\n",
       "      <td>1</td>\n",
       "    </tr>\n",
       "    <tr>\n",
       "      <th>...</th>\n",
       "      <td>...</td>\n",
       "      <td>...</td>\n",
       "      <td>...</td>\n",
       "      <td>...</td>\n",
       "      <td>...</td>\n",
       "      <td>...</td>\n",
       "      <td>...</td>\n",
       "      <td>...</td>\n",
       "      <td>...</td>\n",
       "    </tr>\n",
       "    <tr>\n",
       "      <th>193471</th>\n",
       "      <td>3108863070</td>\n",
       "      <td>2018-11-13</td>\n",
       "      <td>Australia</td>\n",
       "      <td>Australia</td>\n",
       "      <td>New South Wales</td>\n",
       "      <td>-33.474900</td>\n",
       "      <td>150.172000</td>\n",
       "      <td>Crinia Signifera</td>\n",
       "      <td>0</td>\n",
       "    </tr>\n",
       "    <tr>\n",
       "      <th>193473</th>\n",
       "      <td>3108900314</td>\n",
       "      <td>2019-10-30</td>\n",
       "      <td>Australia</td>\n",
       "      <td>Australia</td>\n",
       "      <td>New South Wales</td>\n",
       "      <td>-33.789908</td>\n",
       "      <td>151.131394</td>\n",
       "      <td>Litoria Fallax</td>\n",
       "      <td>1</td>\n",
       "    </tr>\n",
       "    <tr>\n",
       "      <th>193476</th>\n",
       "      <td>3108938525</td>\n",
       "      <td>2018-10-17</td>\n",
       "      <td>Australia</td>\n",
       "      <td>Australia</td>\n",
       "      <td>New South Wales</td>\n",
       "      <td>-33.757622</td>\n",
       "      <td>150.618240</td>\n",
       "      <td>Litoria Fallax</td>\n",
       "      <td>1</td>\n",
       "    </tr>\n",
       "    <tr>\n",
       "      <th>193477</th>\n",
       "      <td>3108845537</td>\n",
       "      <td>2019-10-15</td>\n",
       "      <td>Australia</td>\n",
       "      <td>Australia</td>\n",
       "      <td>New South Wales</td>\n",
       "      <td>-33.718800</td>\n",
       "      <td>150.385000</td>\n",
       "      <td>Crinia Signifera</td>\n",
       "      <td>0</td>\n",
       "    </tr>\n",
       "    <tr>\n",
       "      <th>193735</th>\n",
       "      <td>1653525892</td>\n",
       "      <td>2015-09-15</td>\n",
       "      <td>Australia</td>\n",
       "      <td>Australia</td>\n",
       "      <td>New South Wales</td>\n",
       "      <td>-33.767500</td>\n",
       "      <td>151.117917</td>\n",
       "      <td>Crinia Signifera</td>\n",
       "      <td>0</td>\n",
       "    </tr>\n",
       "  </tbody>\n",
       "</table>\n",
       "<p>9418 rows × 9 columns</p>\n",
       "</div>"
      ],
      "text/plain": [
       "            gbifID  eventDate    country  continent    stateProvince  \\\n",
       "935     3108894201 2017-11-12  Australia  Australia  New South Wales   \n",
       "941     3108882429 2019-09-19  Australia  Australia  New South Wales   \n",
       "944     3108953063 2019-11-03  Australia  Australia  New South Wales   \n",
       "945     3108952573 2019-11-04  Australia  Australia  New South Wales   \n",
       "980     1452200212 2015-06-16  Australia  Australia  New South Wales   \n",
       "...            ...        ...        ...        ...              ...   \n",
       "193471  3108863070 2018-11-13  Australia  Australia  New South Wales   \n",
       "193473  3108900314 2019-10-30  Australia  Australia  New South Wales   \n",
       "193476  3108938525 2018-10-17  Australia  Australia  New South Wales   \n",
       "193477  3108845537 2019-10-15  Australia  Australia  New South Wales   \n",
       "193735  1653525892 2015-09-15  Australia  Australia  New South Wales   \n",
       "\n",
       "        decimalLatitude  decimalLongitude           species  occurrenceStatus  \n",
       "935          -33.699881        151.043367    Litoria Fallax                 1  \n",
       "941          -33.955790        150.976815  Crinia Signifera                 0  \n",
       "944          -33.755278        150.623221    Litoria Fallax                 1  \n",
       "945          -33.755291        150.623651    Litoria Fallax                 1  \n",
       "980          -33.951844        150.870430    Litoria Fallax                 1  \n",
       "...                 ...               ...               ...               ...  \n",
       "193471       -33.474900        150.172000  Crinia Signifera                 0  \n",
       "193473       -33.789908        151.131394    Litoria Fallax                 1  \n",
       "193476       -33.757622        150.618240    Litoria Fallax                 1  \n",
       "193477       -33.718800        150.385000  Crinia Signifera                 0  \n",
       "193735       -33.767500        151.117917  Crinia Signifera                 0  \n",
       "\n",
       "[9418 rows x 9 columns]"
      ]
     },
     "execution_count": 14,
     "metadata": {},
     "output_type": "execute_result"
    }
   ],
   "source": [
    "target_species = 'Litoria Fallax'\n",
    "\n",
    "all_frog_data = (\n",
    "    all_frog_data\n",
    "    # Assign the occurrenceStatus to 1 for the target species and 0 for all other species.\n",
    "    # as well as a key for joining (later)\n",
    "    .assign(\n",
    "        occurrenceStatus = lambda x: np.where(x.species == target_species, 1, 0)\n",
    "    )\n",
    ")\n",
    "all_frog_data"
   ]
  },
  {
   "cell_type": "markdown",
   "id": "1acd4236-b9a9-4622-9a59-2a3365ae9a01",
   "metadata": {},
   "source": [
    "## Predictor Variables\n",
    "\n",
    "Now that we have our response variable, it is time to gather the predictor variables from the TerraClimate dataset. For a more in-depth look at the TerraClimate dataset and how to query it, see the [TerraClimate supplementary notebook](./supplementary_notebooks/TerraClimate.ipynb)\n",
    "\n",
    "### Accessing the TerraClimate Data\n",
    "\n",
    "To get the TerraClimate data, we write a function called `get_terraclimate`. This function will fetch all data intersecting with the bounding box and will calculate various metrics over the time dimension for each coordinate. In this example, we will take four metrics from four assets, namely the mean maximum monthly air temp (`tmax_mean`), mean minimum monthly air temp (`tmin_mean`), mean accumulated precipitation (`ppt_mean`) and mean soil moisture (`soil_mean`), all calculated over a five year timeframe from the start of 2015 to the end of 2019.\n",
    "\n",
    "To assist in visualisations, this function has an interpolation functionality which will allow the comparitively coarse temporal resolution of the terraclimate data to be mapped to a larger set of coordinates, creating an ($n$ x $m$) image. We will choose (512 x 512).\n"
   ]
  },
  {
   "cell_type": "code",
   "execution_count": 2,
   "id": "895f4351-847a-4c66-a764-f9a0888b9869",
   "metadata": {},
   "outputs": [],
   "source": [
    "def get_terraclimate(bbox, metrics, time_slice=None, assets=None, features=None, interp_dims=None, verbose=True):\n",
    "    \"\"\"Returns terraclimate metrics for a given area, allowing results to be interpolated onto a larger image.\n",
    "    \n",
    "    Attributes:\n",
    "    bbox -- Tuple of (min_lon, min_lat, max_lon, max_lat) to define area\n",
    "    metrics -- Nested dictionary in the form {<metric_name>:{'fn':<metric_function>,'params':<metric_kwargs_dict>}, ... }\n",
    "    time_slice -- Tuple of datetime strings to select data between, e.g. ('2015-01-01','2019-12-31')\n",
    "    assets -- list of terraclimate assets to take\n",
    "    features -- list of asset metrics to take, specified by strings in the form '<asset_name>_<metric_name>'\n",
    "    interp_dims -- Tuple of dimensions (n, m) to interpolate results to\n",
    "    \"\"\"\n",
    "    min_lon, min_lat, max_lon, max_lat = bbox\n",
    "    \n",
    "    collection = pystac.read_file(\"https://planetarycomputer.microsoft.com/api/stac/v1/collections/terraclimate\")\n",
    "    asset = collection.assets[\"zarr-https\"]\n",
    "    store = fsspec.get_mapper(asset.href)\n",
    "    data = xr.open_zarr(store, **asset.extra_fields[\"xarray:open_kwargs\"])\n",
    "    \n",
    "    # Select datapoints that overlap region\n",
    "    if time_slice is not None:\n",
    "        data = data.sel(lon=slice(min_lon,max_lon),lat=slice(max_lat,min_lat),time=slice(time_slice[0],time_slice[1]))\n",
    "    else:\n",
    "        data = data.sel(lon=slice(min_lon,max_lon),lat=slice(max_lat,min_lat))\n",
    "    if assets is not None:\n",
    "        data = data[assets]\n",
    "    print('Loading data') if verbose else None\n",
    "    data = data.rename(lat='y', lon='x').to_array().compute()\n",
    "        \n",
    "    # Calculate metrics\n",
    "    combined_values = []\n",
    "    combined_bands = []\n",
    "    for name, metric in metrics.items():\n",
    "        print(f'Calculating {name}') if verbose else None\n",
    "        sum_data = xr.apply_ufunc(\n",
    "            metric['fn'], data, input_core_dims=[[\"time\"]], kwargs=metric['params'], dask = 'allowed', vectorize = True\n",
    "        ).rename(variable='band')\n",
    "        xcoords = sum_data.x\n",
    "        ycoords = sum_data.y\n",
    "        dims = sum_data.dims\n",
    "        combined_values.append(sum_data.values)\n",
    "        for band in sum_data.band.values:\n",
    "            combined_bands.append(band+'_'+name)\n",
    "        \n",
    "    # Combine metrics\n",
    "    combined_values = np.concatenate(\n",
    "        combined_values,\n",
    "        axis=0\n",
    "    )\n",
    "    combined_data = xr.DataArray(\n",
    "        data=combined_values,\n",
    "        dims=dims,\n",
    "        coords=dict(\n",
    "            band=combined_bands,\n",
    "            y=ycoords,\n",
    "            x=xcoords\n",
    "        )\n",
    "    )    \n",
    "\n",
    "    # Take relevant bands:\n",
    "    combined_data = combined_data.sel(band=features)\n",
    "    \n",
    "    if interp_dims is not None:\n",
    "        print(f'Interpolating image') if verbose else None\n",
    "        interp_coords = (np.linspace(bbox[0], bbox[2], interp_dims[0]), np.linspace(bbox[1], bbox[3], interp_dims[1]))\n",
    "        combined_data = combined_data.interp(x=interp_coords[0], y=interp_coords[1], method='nearest', kwargs={\"fill_value\": \"extrapolate\"})\n",
    "    \n",
    "    return combined_data"
   ]
  },
  {
   "cell_type": "markdown",
   "id": "81e65acf-b700-43a3-9c39-d0f40a87e616",
   "metadata": {},
   "source": [
    "Below, we define the products to take from TerraClimate in `assets` and the metrics to calculate from them in `tc_metrics`. Each metric is applied to each asset, so to pick the desired asset/metric pairs we define a list of strings in the form '\\<asset\\>_\\<metric\\>' in `features`. "
   ]
  },
  {
   "cell_type": "markdown",
   "id": "26999ce2",
   "metadata": {},
   "source": [
    "Reference evapotranspiration (ASCE Penman-Montieth), Runoff, Actual Evapotranspiration, Climate Water Deficit, Soil Moisture, Snow Water Equivalent, Palmer Drought Severity Index, Vapor pressure deficit\n"
   ]
  },
  {
   "cell_type": "code",
   "execution_count": 16,
   "id": "bd7da9ea-10ed-418e-a803-ea4db74e0c30",
   "metadata": {},
   "outputs": [],
   "source": [
    "# Metrics to measure over time dimension\n",
    "tc_metrics = {\n",
    "    'mean':{\n",
    "        'fn':np.nanmean,\n",
    "        'params':{}\n",
    "    },\n",
    "    'min':{\n",
    "        'fn':np.nanmin,\n",
    "        'params':{}\n",
    "    },\n",
    "    'max':{\n",
    "        'fn':np.nanmax,\n",
    "        'params':{}\n",
    "    }\n",
    "}\n",
    "\n",
    "# Date range to take\n",
    "time_slice = ('2012-01-01','2020-12-31')\n",
    "\n",
    "# Measurements to take: primary + secondary variables\n",
    "assets=['tmax', 'tmin', 'ppt', 'srad','vap','aet','pet']\n",
    "\n",
    "# Features to take, in form '<asset>_<metric>'\n",
    "features=['tmax_mean', 'tmin_mean', 'ppt_mean','srad_mean','vap_mean','aet_mean','pet_mean']\n",
    "\n",
    "# Interpolate values to a 512x512 image\n",
    "interp_dims = (512, 512)\n",
    "\n",
    "#weather_data = get_terraclimate(bbox5, tc_metrics, time_slice=time_slice, assets=assets, features=features, interp_dims=interp_dims)\n",
    "#display(weather_data.band.values)"
   ]
  },
  {
   "cell_type": "markdown",
   "id": "e0774bc5-4dff-4812-a1c6-70768abca0c9",
   "metadata": {},
   "source": [
    "### Joining Pretictors to the Response Variable\n",
    "\n",
    "Now that we have read in our predictor variables, we need to join them onto the response variable of frogs. To do this, we loop through the frog occurrence data and assign each frog occurrence the closest predictor pixel value from each of the predictor variables based on the geo-coordinates. The `sel` method of the xarray dataarray comes in handy here.\n",
    "\n",
    "## Join weather onto frog? "
   ]
  },
  {
   "cell_type": "code",
   "execution_count": 8,
   "id": "b397daf8-cb09-4a57-8317-e3a7d13a2255",
   "metadata": {},
   "outputs": [],
   "source": [
    "def join_frogs(frogs, data):\n",
    "    \"\"\"Collects the data for each frog location and joins it onto the frog data \n",
    "\n",
    "    Arguments:\n",
    "    frogs -- dataframe containing the response variable along with [\"decimalLongitude\", \"decimalLatitude\", \"key\"]\n",
    "    data -- xarray dataarray of features, indexed with geocoordinates\n",
    "    \"\"\"\n",
    "    return frogs.merge(\n",
    "        (\n",
    "            data\n",
    "            .rename('data')\n",
    "            .sel(\n",
    "                x=xr.DataArray(frog_data.decimalLongitude, dims=\"key\", coords={\"key\": frog_data.key}), \n",
    "                y=xr.DataArray(frog_data.decimalLatitude, dims=\"key\", coords={\"key\": frog_data.key}),\n",
    "                method=\"nearest\"\n",
    "            )\n",
    "            .to_dataframe()\n",
    "            .assign(val = lambda x: x.iloc[:, -1])\n",
    "            [['val']]\n",
    "            .reset_index()\n",
    "            .drop_duplicates()\n",
    "            .pivot(index=\"key\", columns=\"band\", values=\"val\")\n",
    "            .reset_index()\n",
    "        ),\n",
    "        on = ['key'],\n",
    "        how = 'inner'\n",
    "    )\n",
    "    \n",
    "#model_data = join_frogs(frog_data, combine_45)\n",
    "#model_data.head()"
   ]
  },
  {
   "cell_type": "code",
   "execution_count": 18,
   "id": "1cf75c5e",
   "metadata": {},
   "outputs": [],
   "source": [
    "# model_data.to_csv('model_data_11vars.csv')"
   ]
  },
  {
   "cell_type": "markdown",
   "id": "8fb154fe-e72c-4e0f-b4ea-5a20384de3f5",
   "metadata": {},
   "source": [
    "## Model Building\n",
    "\n",
    "### Model Training\n"
   ]
  },
  {
   "cell_type": "code",
   "execution_count": 3,
   "id": "a1711e24",
   "metadata": {},
   "outputs": [],
   "source": [
    "# 11 variables\n",
    "df = pd.read_csv('climate_frog1220.csv')\n",
    "X = df[['aet_mean', 'def_mean', 'pet_mean', 'ppt_mean', 'q_mean', 'srad_mean', \n",
    "        'tmax_mean', 'tmin_mean', 'vap_mean', 'vpd_mean','ws_mean']]\n",
    "y = df['occurrenceStatus']"
   ]
  },
  {
   "cell_type": "code",
   "execution_count": 4,
   "id": "8629f5c4",
   "metadata": {},
   "outputs": [],
   "source": [
    "# 7 variables\n",
    "X7 = df[['aet_mean','pet_mean', 'ppt_mean', 'srad_mean', 'tmax_mean', 'tmin_mean','vap_mean']]"
   ]
  },
  {
   "cell_type": "markdown",
   "id": "9c5b4fff",
   "metadata": {},
   "source": [
    "### GBClassifier"
   ]
  },
  {
   "cell_type": "code",
   "execution_count": 71,
   "id": "e862084e",
   "metadata": {},
   "outputs": [
    {
     "data": {
      "text/plain": [
       "GradientBoostingClassifier(learning_rate=0.15, max_depth=4, max_features=2,\n",
       "                           min_samples_leaf=20, random_state=0)"
      ]
     },
     "execution_count": 71,
     "metadata": {},
     "output_type": "execute_result"
    }
   ],
   "source": [
    "from sklearn.datasets import make_regression\n",
    "from sklearn.ensemble import GradientBoostingRegressor\n",
    "from sklearn.ensemble import GradientBoostingClassifier\n",
    "from sklearn.model_selection import train_test_split\n",
    "from sklearn.inspection import permutation_importance\n",
    "from sklearn.metrics import mean_squared_error\n",
    "from sklearn.metrics import classification_report, confusion_matrix\n",
    "\n",
    "gbc = GradientBoostingClassifier(n_estimators=100, learning_rate=0.15, min_samples_leaf=20, \n",
    "                                 max_features=2, max_depth=4, random_state=0)\n",
    "gbc.fit(X, y)\n",
    "\n",
    "#print(\"Confusion Matrix:\")\n",
    "#print(confusion_matrix(y_test, predictions))\n",
    "\n",
    "#print(\"Classification Report\")\n",
    "#print(classification_report(y_test, predictions))"
   ]
  },
  {
   "cell_type": "code",
   "execution_count": 9,
   "id": "8646f91c",
   "metadata": {},
   "outputs": [
    {
     "name": "stdout",
     "output_type": "stream",
     "text": [
      "clf2 score with l2 penalty:  1.0\n"
     ]
    }
   ],
   "source": [
    "from sklearn.linear_model import LogisticRegression\n",
    "from sklearn.preprocessing import StandardScaler\n",
    "from sklearn.pipeline import Pipeline\n",
    "from sklearn.model_selection import train_test_split\n",
    "\n",
    "df = pd.read_csv('climate_frog1220.csv')\n",
    "X = df[['aet_mean', 'def_mean', 'pet_mean', 'ppt_mean', 'q_mean', 'srad_mean', \n",
    "        'tmax_mean', 'tmin_mean', 'vap_mean', 'vpd_mean','ws_mean']]\n",
    "y = df['occurrenceStatus']\n",
    "# Make pipeline with default solver and l2 penalty\n",
    "pipe2 = Pipeline([('scaler', StandardScaler()), ('LR', LogisticRegression(random_state = 42, C = 0.01))])\n",
    "# Fit on train data\n",
    "clf2 = pipe2.fit(X, y)\n",
    "# Predict on itself\n",
    "y_pred_l2 = clf2.predict(X)\n",
    "print('clf2 score with l2 penalty: ', clf2.score(X,y_pred_l2))"
   ]
  },
  {
   "cell_type": "markdown",
   "id": "170957fe",
   "metadata": {},
   "source": [
    "### XGBoost"
   ]
  },
  {
   "cell_type": "code",
   "execution_count": 45,
   "id": "15912770",
   "metadata": {},
   "outputs": [
    {
     "name": "stdout",
     "output_type": "stream",
     "text": [
      "[12:32:41] WARNING: c:\\ci\\xgboost-split_1638290375667\\work\\src\\objective\\regression_obj.cu:188: reg:linear is now deprecated in favor of reg:squarederror.\n"
     ]
    },
    {
     "data": {
      "text/plain": [
       "XGBClassifier(alpha=3, base_score=0.5, booster='gbtree', colsample_bylevel=1,\n",
       "              colsample_bynode=1, colsample_bytree=0.5,\n",
       "              enable_categorical=False, gamma=0, gpu_id=-1,\n",
       "              importance_type=None, interaction_constraints='',\n",
       "              learning_rate=0.15, max_delta_step=0, max_depth=6,\n",
       "              min_child_weight=7, missing=nan, monotone_constraints='()',\n",
       "              n_estimators=15, n_jobs=12, num_parallel_tree=1,\n",
       "              objective='reg:linear', predictor='auto', random_state=0,\n",
       "              reg_alpha=3, reg_lambda=1, sampling_method='uniform',\n",
       "              scale_pos_weight=1, subsample=1, tree_method='auto',\n",
       "              validate_parameters=1, ...)"
      ]
     },
     "execution_count": 45,
     "metadata": {},
     "output_type": "execute_result"
    }
   ],
   "source": [
    "import xgboost as xgb\n",
    "from sklearn.metrics import mean_squared_error\n",
    "import pandas as pd\n",
    "import numpy as np\n",
    "xg_reg = xgb.XGBClassifier(booster='gbtree', objective='reg:linear', colsample_bytree = 0.5, learning_rate = 0.15,\n",
    "                max_depth = 6, alpha = 3, n_estimators = 15, tree_method='auto', sampling_method='uniform', \n",
    "                          min_child_weight=7)\n",
    "xg_reg.fit(X,y)\n",
    "\n",
    "#preds = xg_reg.predict(X_test)\n"
   ]
  },
  {
   "cell_type": "markdown",
   "id": "de83dfea",
   "metadata": {},
   "source": [
    "### LR with best parameters"
   ]
  },
  {
   "cell_type": "code",
   "execution_count": 60,
   "id": "47d2df4a",
   "metadata": {
    "scrolled": true
   },
   "outputs": [
    {
     "data": {
      "text/plain": [
       "Pipeline(steps=[('scaler', StandardScaler()),\n",
       "                ('logistic',\n",
       "                 LogisticRegression(C=0.00018, penalty='l1', random_state=42,\n",
       "                                    solver='saga'))])"
      ]
     },
     "execution_count": 60,
     "metadata": {},
     "output_type": "execute_result"
    }
   ],
   "source": [
    "# earlier version (submitted 0.62)\n",
    "from sklearn.pipeline import Pipeline\n",
    "from sklearn.preprocessing import StandardScaler\n",
    "scaler = ('scaler', StandardScaler())\n",
    "logistic = ('logistic',LogisticRegression(random_state = 42, C=0.00018, solver='saga', penalty='l1')) # default penalty is l2\n",
    "pipe = Pipeline(steps=[scaler,logistic])\n",
    "\n",
    "pipe.fit(X,y)"
   ]
  },
  {
   "cell_type": "code",
   "execution_count": 6,
   "id": "1ca6941d",
   "metadata": {},
   "outputs": [
    {
     "data": {
      "text/plain": [
       "LogisticRegression(C=0.001, random_state=42, solver='liblinear')"
      ]
     },
     "execution_count": 6,
     "metadata": {},
     "output_type": "execute_result"
    }
   ],
   "source": [
    "# new best version from gridsearch\n",
    "# results:\n",
    "# 0.5 submitted - 0.74\n",
    "# 0.55 ten more 0s than 0.5 model\n",
    "# 0.57 eleven more 0s than 0.5 model\n",
    "# 0.59 fifteen more 0s than 0.5 model\n",
    "# 0.6 thirty-nine more 0s than 0.5 model\n",
    "lr = LogisticRegression(C=0.001, random_state=42, solver='liblinear')\n",
    "lr.fit(X7, y)"
   ]
  },
  {
   "cell_type": "markdown",
   "id": "d5cba671",
   "metadata": {},
   "source": [
    "### SVM after gridsearch"
   ]
  },
  {
   "cell_type": "code",
   "execution_count": 54,
   "id": "b0f95229",
   "metadata": {},
   "outputs": [
    {
     "data": {
      "text/plain": [
       "SVC(gamma=0.1, probability=True)"
      ]
     },
     "execution_count": 54,
     "metadata": {},
     "output_type": "execute_result"
    }
   ],
   "source": [
    "from sklearn import svm\n",
    "svm1 = svm.SVC(kernel='rbf', gamma=0.1, probability=True)\n",
    "svm1.fit(X7, y)"
   ]
  },
  {
   "cell_type": "markdown",
   "id": "f99ac361",
   "metadata": {},
   "source": [
    "### Predict frogs function"
   ]
  },
  {
   "cell_type": "code",
   "execution_count": 53,
   "id": "6a306561-6f2b-4f0d-9ede-b98b702ac226",
   "metadata": {},
   "outputs": [],
   "source": [
    "def predict_frogs(predictor_image, model):\n",
    "    \"\"\"Returns a (1, n, m) xarray where each pixel value corresponds to the probability of a frog occurrence.\n",
    "    \n",
    "    Takes in the multi-band image outputted by the `create_predictor_image` function as well as the\n",
    "    trained model and returns the predictions for each pixel value. Firstly, the $x$ and $y$ indexes\n",
    "    in the predictor image are stacked into one multi-index $z=(x, y)$ to produce an $k\\times n$\n",
    "    array, which is the format required to feed into our logistic regression model. Then, the array\n",
    "    is fed into the model, returning the model's predictions for the frog likelihood at each pixel. \n",
    "    The predicted probabilities are then indexed by the same multi-index $z$ as before, which allows \n",
    "    the array to be unstacked and returned as a one-band image, ready for plotting.\n",
    "\n",
    "    Arguments:\n",
    "    predictor_image -- (K, n, m) xarray, where K is the number of predictor variables.\n",
    "    model -- sklearn model with K predictor variables.\n",
    "    \"\"\"\n",
    "    # Stack up pixels so they are in the appropriate format for the model\n",
    "    predictor_image = predictor_image.stack(z=(\"y\", \"x\")).transpose()\n",
    "    # Reorder variables to be in same order as model\n",
    "    # predictor_image = predictor_image.sel(band=model.get_booster().feature_names)\n",
    "    predictor_image = predictor_image.sel(band=model.feature_names_in_)\n",
    "    # Location of null values so that we can skip them (prediction model will break if nulls are present)\n",
    "    null_pixels = (np.sum(predictor_image.isnull(), axis=-1) > 0)\n",
    "    # Empty probabilities array\n",
    "    probabilities = np.zeros((len(null_pixels), 2))\n",
    "    # Calculate probability for each non-null pixel point\n",
    "    probabilities[~null_pixels] = model.predict_proba(\n",
    "        predictor_image[~null_pixels]\n",
    "    )\n",
    "    # Set null pixels to a probability of null\n",
    "    probabilities[null_pixels] = np.array([np.nan, np.nan])\n",
    "    # Just take probability of frog (class=1)\n",
    "    probabilities = probabilities[:,1]\n",
    "    # Add the coordinates to the probabilities, saving them in an xarray\n",
    "    resultant_image = xr.DataArray(\n",
    "        data=probabilities,\n",
    "        dims=['z'],\n",
    "        coords=dict(\n",
    "            z=predictor_image.z\n",
    "        )\n",
    "    )\n",
    "    # Unstack the image\n",
    "    resultant_image = resultant_image.unstack()\n",
    "    return resultant_image\n",
    "\n",
    "# Calculate probability for each pixel point \n",
    "#resultant_image = predict_frogs(weather_data, full_model)"
   ]
  },
  {
   "cell_type": "markdown",
   "id": "7ca134a4-7445-4097-ad62-574453c00c21",
   "metadata": {},
   "source": [
    "## Submission\n",
    "\n",
    "Once you are happy with your model, there will come a time to make a submission to the challenge. To make a submission, you will need to use your model to make predictions about the presence of litoria fallax for a set of test coordinates we have provided. The coordinates are found in the 'challenge_1_submission_template.csv' file, and the list of bounding boxes where the points were sampled from can be found separately in the 'challenge_1_test_regions.txt' file. We recommend looping through the regions identified in that file, pulling the TerraClimate data for that region, and extracting the features for each point in the 'test_1_occurrences.csv' file within that regions bounding box. This will minimise the computational requirements."
   ]
  },
  {
   "cell_type": "code",
   "execution_count": 8,
   "id": "5acebfca-8e59-4fbb-b87e-9c61406d9310",
   "metadata": {},
   "outputs": [],
   "source": [
    "# Load in test coordinates\n",
    "test_file = pd.read_csv('challenge_1_submission_template.csv')"
   ]
  },
  {
   "cell_type": "code",
   "execution_count": 9,
   "id": "3f923285-32ad-4dfb-8595-1c80e3aebf79",
   "metadata": {},
   "outputs": [],
   "source": [
    "# Read in test regions\n",
    "test_1_regions = []\n",
    "with open('challenge_1_test_regions.txt', 'r') as file: \n",
    "    for i, line in enumerate(file):\n",
    "        if i > 0:\n",
    "            test_1_regions.append(eval(\"(\"+line+\")\"))"
   ]
  },
  {
   "cell_type": "code",
   "execution_count": 10,
   "id": "856dd01f-4802-44d8-bd30-7ca18aa51cd8",
   "metadata": {},
   "outputs": [],
   "source": [
    "# Load in regions and save as list of dictionaries.\n",
    "test_regions = [{'title':i, 'bbox':bbox} for i, bbox in enumerate(test_1_regions)]"
   ]
  },
  {
   "cell_type": "code",
   "execution_count": 16,
   "id": "f0889d4e",
   "metadata": {},
   "outputs": [
    {
     "data": {
      "text/plain": [
       "[{'title': 0, 'bbox': (144.8, -38.5, 145.8, -37.5)},\n",
       " {'title': 1, 'bbox': (150.7, -33.5, 151.7, -32.5)},\n",
       " {'title': 2, 'bbox': (152.6, -29.0, 153.6, -28.0)},\n",
       " {'title': 3, 'bbox': (145.0, -17.7, 146.0, -16.7)},\n",
       " {'title': 4, 'bbox': (115.7, -32.5, 116.7, -31.5)}]"
      ]
     },
     "execution_count": 16,
     "metadata": {},
     "output_type": "execute_result"
    }
   ],
   "source": [
    "test_regions"
   ]
  },
  {
   "cell_type": "code",
   "execution_count": 18,
   "id": "7b9f2537",
   "metadata": {
    "scrolled": true
   },
   "outputs": [
    {
     "ename": "NameError",
     "evalue": "name 'region' is not defined",
     "output_type": "error",
     "traceback": [
      "\u001b[1;31m---------------------------------------------------------------------------\u001b[0m",
      "\u001b[1;31mNameError\u001b[0m                                 Traceback (most recent call last)",
      "Input \u001b[1;32mIn [18]\u001b[0m, in \u001b[0;36m<cell line: 1>\u001b[1;34m()\u001b[0m\n\u001b[1;32m----> 1\u001b[0m \u001b[43mregion\u001b[49m\u001b[38;5;241m.\u001b[39mkeys()\n",
      "\u001b[1;31mNameError\u001b[0m: name 'region' is not defined"
     ]
    }
   ],
   "source": [
    "region.keys()"
   ]
  },
  {
   "cell_type": "markdown",
   "id": "a909537b-fc16-40d5-bd2e-213e47826091",
   "metadata": {},
   "source": [
    "Note: with the TerraClimate parameters we have set, some areas of each region contain nulls. If this is the case, the prediction will return a null, which evaluates to false when we create the binary mask."
   ]
  },
  {
   "cell_type": "code",
   "execution_count": 55,
   "id": "297c645d-9cf7-4aaa-a93f-a3d1f16fda96",
   "metadata": {
    "scrolled": false
   },
   "outputs": [
    {
     "name": "stdout",
     "output_type": "stream",
     "text": [
      "Loading data\n",
      "Calculating mean\n",
      "Calculating min\n",
      "Calculating max\n"
     ]
    },
    {
     "data": {
      "image/png": "[encoded data removed]",
      "text/plain": [
       "<Figure size 432x288 with 2 Axes>"
      ]
     },
     "metadata": {
      "needs_background": "light"
     },
     "output_type": "display_data"
    },
    {
     "name": "stdout",
     "output_type": "stream",
     "text": [
      "Loading data\n",
      "Calculating mean\n",
      "Calculating min\n",
      "Calculating max\n"
     ]
    },
    {
     "data": {
      "image/png": "[encoded data removed]",
      "text/plain": [
       "<Figure size 432x288 with 2 Axes>"
      ]
     },
     "metadata": {
      "needs_background": "light"
     },
     "output_type": "display_data"
    },
    {
     "name": "stdout",
     "output_type": "stream",
     "text": [
      "Loading data\n",
      "Calculating mean\n",
      "Calculating min\n",
      "Calculating max\n"
     ]
    },
    {
     "data": {
      "image/png": "[encoded data removed]",
      "text/plain": [
       "<Figure size 432x288 with 2 Axes>"
      ]
     },
     "metadata": {
      "needs_background": "light"
     },
     "output_type": "display_data"
    },
    {
     "name": "stdout",
     "output_type": "stream",
     "text": [
      "Loading data\n",
      "Calculating mean\n",
      "Calculating min\n",
      "Calculating max\n"
     ]
    },
    {
     "data": {
      "image/png": "[encoded data removed]",
      "text/plain": [
       "<Figure size 432x288 with 2 Axes>"
      ]
     },
     "metadata": {
      "needs_background": "light"
     },
     "output_type": "display_data"
    },
    {
     "name": "stdout",
     "output_type": "stream",
     "text": [
      "Loading data\n",
      "Calculating mean\n",
      "Calculating min\n",
      "Calculating max\n"
     ]
    },
    {
     "data": {
      "image/png": "[encoded data removed]",
      "text/plain": [
       "<Figure size 432x288 with 2 Axes>"
      ]
     },
     "metadata": {
      "needs_background": "light"
     },
     "output_type": "display_data"
    }
   ],
   "source": [
    "# Obtain predictor data for each region and get predictor image\n",
    "for region in test_regions:\n",
    "    region['coords'] = filter_bbox(test_file[['id', 'decimalLongitude', 'decimalLatitude']], region['bbox'])\n",
    "    region['predictors'] = get_terraclimate(region['bbox'], tc_metrics, time_slice=time_slice, assets=assets, features=features)\n",
    "    region['result'] = predict_frogs(region['predictors'], svm1)# > 0.5\n",
    "    \n",
    "    region['result'].plot.imshow(x='x', y='y', vmin=0, vmax=1)\n",
    "    plt.show()\n",
    "    "
   ]
  },
  {
   "cell_type": "code",
   "execution_count": null,
   "id": "63cad8e5",
   "metadata": {},
   "outputs": [],
   "source": []
  },
  {
   "cell_type": "markdown",
   "id": "82bec83a-6b6b-40b9-b869-87dce4275b80",
   "metadata": {},
   "source": [
    "We can now use these classification regions to assign predictions for each of the coordinates specified in the test file. We do this in a similar way to the `join_frogs` function we defined earlier, except in this case we are joining a prediction to each coordinate.\n"
   ]
  },
  {
   "cell_type": "code",
   "execution_count": 56,
   "id": "afe031cf-400d-40e8-adc1-d2df9e8b4ded",
   "metadata": {},
   "outputs": [],
   "source": [
    "predictions = pd.DataFrame()\n",
    "\n",
    "for region in test_regions:\n",
    "    preds = (\n",
    "        region['result'].rename('occurrenceStatus')\n",
    "        .sel(\n",
    "            x=xr.DataArray(region['coords'].decimalLongitude, dims=\"id\", coords={\"id\": region['coords'].id}), \n",
    "            y=xr.DataArray(region['coords'].decimalLatitude, dims=\"id\", coords={\"id\": region['coords'].id}),\n",
    "            method=\"nearest\"\n",
    "        )\n",
    "        .to_dataframe()\n",
    "        .reset_index()\n",
    "        .rename(columns={'x':'decimalLongitude', 'y':'decimalLatitude'})\n",
    "    )\n",
    "    predictions = predictions.append(preds)\n",
    "            \n",
    "submission = (    \n",
    "    predictions.merge(\n",
    "        test_file, \n",
    "        on=['decimalLongitude', 'decimalLatitude'], \n",
    "        how='left', suffixes = ('', '_'))\n",
    "    [test_file.columns]\n",
    "    .fillna(0)\n",
    "    .astype({col:'int' for col in test_file.columns[3::]})\n",
    ")\n"
   ]
  },
  {
   "cell_type": "markdown",
   "id": "7b624948-932e-4b06-a23b-72a13767a705",
   "metadata": {},
   "source": [
    "What we are left with is a submission file with three columns: decimalLatitude, decimalLongitude, and occurrenceStatus. This is the file you will submit to the EY Data Science Challenge platform to receive your score on the leaderboard."
   ]
  },
  {
   "cell_type": "code",
   "execution_count": 57,
   "id": "5f60ccee-1fa5-4b35-a6c8-069d9cea33f0",
   "metadata": {},
   "outputs": [
    {
     "data": {
      "text/html": [
       "<div>\n",
       "<style scoped>\n",
       "    .dataframe tbody tr th:only-of-type {\n",
       "        vertical-align: middle;\n",
       "    }\n",
       "\n",
       "    .dataframe tbody tr th {\n",
       "        vertical-align: top;\n",
       "    }\n",
       "\n",
       "    .dataframe thead th {\n",
       "        text-align: right;\n",
       "    }\n",
       "</style>\n",
       "<table border=\"1\" class=\"dataframe\">\n",
       "  <thead>\n",
       "    <tr style=\"text-align: right;\">\n",
       "      <th></th>\n",
       "      <th>id</th>\n",
       "      <th>decimalLatitude</th>\n",
       "      <th>decimalLongitude</th>\n",
       "      <th>occurrenceStatus</th>\n",
       "    </tr>\n",
       "  </thead>\n",
       "  <tbody>\n",
       "    <tr>\n",
       "      <th>0</th>\n",
       "      <td>0</td>\n",
       "      <td>-37.937500</td>\n",
       "      <td>145.187500</td>\n",
       "      <td>0</td>\n",
       "    </tr>\n",
       "    <tr>\n",
       "      <th>1</th>\n",
       "      <td>1</td>\n",
       "      <td>-37.770833</td>\n",
       "      <td>144.979167</td>\n",
       "      <td>0</td>\n",
       "    </tr>\n",
       "    <tr>\n",
       "      <th>2</th>\n",
       "      <td>2</td>\n",
       "      <td>-37.979167</td>\n",
       "      <td>145.354167</td>\n",
       "      <td>0</td>\n",
       "    </tr>\n",
       "    <tr>\n",
       "      <th>3</th>\n",
       "      <td>3</td>\n",
       "      <td>-37.604167</td>\n",
       "      <td>145.020833</td>\n",
       "      <td>0</td>\n",
       "    </tr>\n",
       "    <tr>\n",
       "      <th>4</th>\n",
       "      <td>4</td>\n",
       "      <td>-38.479167</td>\n",
       "      <td>145.645833</td>\n",
       "      <td>0</td>\n",
       "    </tr>\n",
       "    <tr>\n",
       "      <th>...</th>\n",
       "      <td>...</td>\n",
       "      <td>...</td>\n",
       "      <td>...</td>\n",
       "      <td>...</td>\n",
       "    </tr>\n",
       "    <tr>\n",
       "      <th>4046</th>\n",
       "      <td>4046</td>\n",
       "      <td>-31.895833</td>\n",
       "      <td>116.145833</td>\n",
       "      <td>0</td>\n",
       "    </tr>\n",
       "    <tr>\n",
       "      <th>4047</th>\n",
       "      <td>4047</td>\n",
       "      <td>-32.395833</td>\n",
       "      <td>115.770833</td>\n",
       "      <td>0</td>\n",
       "    </tr>\n",
       "    <tr>\n",
       "      <th>4048</th>\n",
       "      <td>4048</td>\n",
       "      <td>-32.145833</td>\n",
       "      <td>115.854167</td>\n",
       "      <td>0</td>\n",
       "    </tr>\n",
       "    <tr>\n",
       "      <th>4049</th>\n",
       "      <td>4049</td>\n",
       "      <td>-31.812500</td>\n",
       "      <td>116.229167</td>\n",
       "      <td>0</td>\n",
       "    </tr>\n",
       "    <tr>\n",
       "      <th>4050</th>\n",
       "      <td>4050</td>\n",
       "      <td>-31.562500</td>\n",
       "      <td>116.062500</td>\n",
       "      <td>0</td>\n",
       "    </tr>\n",
       "  </tbody>\n",
       "</table>\n",
       "<p>4051 rows × 4 columns</p>\n",
       "</div>"
      ],
      "text/plain": [
       "        id  decimalLatitude  decimalLongitude  occurrenceStatus\n",
       "0        0       -37.937500        145.187500                 0\n",
       "1        1       -37.770833        144.979167                 0\n",
       "2        2       -37.979167        145.354167                 0\n",
       "3        3       -37.604167        145.020833                 0\n",
       "4        4       -38.479167        145.645833                 0\n",
       "...    ...              ...               ...               ...\n",
       "4046  4046       -31.895833        116.145833                 0\n",
       "4047  4047       -32.395833        115.770833                 0\n",
       "4048  4048       -32.145833        115.854167                 0\n",
       "4049  4049       -31.812500        116.229167                 0\n",
       "4050  4050       -31.562500        116.062500                 0\n",
       "\n",
       "[4051 rows x 4 columns]"
      ]
     },
     "metadata": {},
     "output_type": "display_data"
    }
   ],
   "source": [
    "display(submission)\n",
    "\n",
    "# Save to output folder\n",
    "# submission.to_csv('challenge_1_submission_LR_gridsearch_0.6.csv', index=None)"
   ]
  },
  {
   "cell_type": "code",
   "execution_count": 58,
   "id": "6d154f67",
   "metadata": {},
   "outputs": [
    {
     "data": {
      "text/html": [
       "<div>\n",
       "<style scoped>\n",
       "    .dataframe tbody tr th:only-of-type {\n",
       "        vertical-align: middle;\n",
       "    }\n",
       "\n",
       "    .dataframe tbody tr th {\n",
       "        vertical-align: top;\n",
       "    }\n",
       "\n",
       "    .dataframe thead th {\n",
       "        text-align: right;\n",
       "    }\n",
       "</style>\n",
       "<table border=\"1\" class=\"dataframe\">\n",
       "  <thead>\n",
       "    <tr style=\"text-align: right;\">\n",
       "      <th></th>\n",
       "      <th>id</th>\n",
       "      <th>decimalLatitude</th>\n",
       "      <th>decimalLongitude</th>\n",
       "    </tr>\n",
       "    <tr>\n",
       "      <th>occurrenceStatus</th>\n",
       "      <th></th>\n",
       "      <th></th>\n",
       "      <th></th>\n",
       "    </tr>\n",
       "  </thead>\n",
       "  <tbody>\n",
       "    <tr>\n",
       "      <th>0</th>\n",
       "      <td>4051</td>\n",
       "      <td>4051</td>\n",
       "      <td>4051</td>\n",
       "    </tr>\n",
       "  </tbody>\n",
       "</table>\n",
       "</div>"
      ],
      "text/plain": [
       "                    id  decimalLatitude  decimalLongitude\n",
       "occurrenceStatus                                         \n",
       "0                 4051             4051              4051"
      ]
     },
     "execution_count": 58,
     "metadata": {},
     "output_type": "execute_result"
    }
   ],
   "source": [
    "submission.groupby('occurrenceStatus').count()"
   ]
  },
  {
   "cell_type": "code",
   "execution_count": 24,
   "id": "1c6b0751",
   "metadata": {},
   "outputs": [
    {
     "data": {
      "text/html": [
       "<div>\n",
       "<style scoped>\n",
       "    .dataframe tbody tr th:only-of-type {\n",
       "        vertical-align: middle;\n",
       "    }\n",
       "\n",
       "    .dataframe tbody tr th {\n",
       "        vertical-align: top;\n",
       "    }\n",
       "\n",
       "    .dataframe thead th {\n",
       "        text-align: right;\n",
       "    }\n",
       "</style>\n",
       "<table border=\"1\" class=\"dataframe\">\n",
       "  <thead>\n",
       "    <tr style=\"text-align: right;\">\n",
       "      <th></th>\n",
       "      <th>id</th>\n",
       "      <th>decimalLatitude</th>\n",
       "      <th>decimalLongitude</th>\n",
       "    </tr>\n",
       "    <tr>\n",
       "      <th>occurrenceStatus</th>\n",
       "      <th></th>\n",
       "      <th></th>\n",
       "      <th></th>\n",
       "    </tr>\n",
       "  </thead>\n",
       "  <tbody>\n",
       "    <tr>\n",
       "      <th>0</th>\n",
       "      <td>598</td>\n",
       "      <td>598</td>\n",
       "      <td>598</td>\n",
       "    </tr>\n",
       "  </tbody>\n",
       "</table>\n",
       "</div>"
      ],
      "text/plain": [
       "                   id  decimalLatitude  decimalLongitude\n",
       "occurrenceStatus                                        \n",
       "0                 598              598               598"
      ]
     },
     "execution_count": 24,
     "metadata": {},
     "output_type": "execute_result"
    }
   ],
   "source": [
    "submission[(submission['decimalLongitude'] < 116.7) & (submission['decimalLongitude'] > 115.7)].groupby('occurrenceStatus').count()"
   ]
  },
  {
   "cell_type": "markdown",
   "id": "41938b59-c2be-454e-be3a-80251330aa62",
   "metadata": {},
   "source": [
    "### Get Frogging!"
   ]
  },
  {
   "cell_type": "markdown",
   "id": "c4ec962f-89f9-465e-9269-73374840dcb8",
   "metadata": {},
   "source": [
    "Now that you have witnessed a basic approach to model training, its time to try your own approach! Feel free to modify any of the functions presented in this notebook. A good start might be to try running this notebook on a region different to Greater Sydney, or even on multiple regions.\n",
    "\n",
    "Be sure to address some of the assumptions made here, particularly ways to address the sampling bias in the dataset. Our pseudo-absence method was just one idea, you may want to persue another. Another important issue to consider is that of class imbalance. In this notebook, we simply down-sampled the non-target species to match the number of target species. This may not be ideal, as an isolated frog occurrence may be lost while clusters of occurrences are more likely to persist. Perhaps a method of sampling only from clustered occurrences would address class imbalance while also helping to offset the sampling bias. Just a thought! You might even decide on a completely different training set, such as classifying regions rather than points. Do whatever you think will create the best model for predicting the frog habitat of the species of interest. Happy frogging!"
   ]
  },
  {
   "cell_type": "markdown",
   "id": "6c08e4bf",
   "metadata": {},
   "source": [
    "### Check what the output should look like - test submission csv"
   ]
  },
  {
   "cell_type": "code",
   "execution_count": 76,
   "id": "d9425f37",
   "metadata": {},
   "outputs": [
    {
     "data": {
      "text/html": [
       "<div>\n",
       "<style scoped>\n",
       "    .dataframe tbody tr th:only-of-type {\n",
       "        vertical-align: middle;\n",
       "    }\n",
       "\n",
       "    .dataframe tbody tr th {\n",
       "        vertical-align: top;\n",
       "    }\n",
       "\n",
       "    .dataframe thead th {\n",
       "        text-align: right;\n",
       "    }\n",
       "</style>\n",
       "<table border=\"1\" class=\"dataframe\">\n",
       "  <thead>\n",
       "    <tr style=\"text-align: right;\">\n",
       "      <th></th>\n",
       "      <th>id</th>\n",
       "      <th>decimalLatitude</th>\n",
       "      <th>decimalLongitude</th>\n",
       "      <th>occurrenceStatus</th>\n",
       "    </tr>\n",
       "  </thead>\n",
       "  <tbody>\n",
       "    <tr>\n",
       "      <th>0</th>\n",
       "      <td>0</td>\n",
       "      <td>-37.937500</td>\n",
       "      <td>145.187500</td>\n",
       "      <td>0</td>\n",
       "    </tr>\n",
       "    <tr>\n",
       "      <th>1</th>\n",
       "      <td>1</td>\n",
       "      <td>-37.770833</td>\n",
       "      <td>144.979167</td>\n",
       "      <td>0</td>\n",
       "    </tr>\n",
       "    <tr>\n",
       "      <th>2</th>\n",
       "      <td>2</td>\n",
       "      <td>-37.979167</td>\n",
       "      <td>145.354167</td>\n",
       "      <td>0</td>\n",
       "    </tr>\n",
       "    <tr>\n",
       "      <th>3</th>\n",
       "      <td>3</td>\n",
       "      <td>-37.604167</td>\n",
       "      <td>145.020833</td>\n",
       "      <td>0</td>\n",
       "    </tr>\n",
       "    <tr>\n",
       "      <th>4</th>\n",
       "      <td>4</td>\n",
       "      <td>-38.479167</td>\n",
       "      <td>145.645833</td>\n",
       "      <td>0</td>\n",
       "    </tr>\n",
       "    <tr>\n",
       "      <th>...</th>\n",
       "      <td>...</td>\n",
       "      <td>...</td>\n",
       "      <td>...</td>\n",
       "      <td>...</td>\n",
       "    </tr>\n",
       "    <tr>\n",
       "      <th>4046</th>\n",
       "      <td>4046</td>\n",
       "      <td>-31.895833</td>\n",
       "      <td>116.145833</td>\n",
       "      <td>0</td>\n",
       "    </tr>\n",
       "    <tr>\n",
       "      <th>4047</th>\n",
       "      <td>4047</td>\n",
       "      <td>-32.395833</td>\n",
       "      <td>115.770833</td>\n",
       "      <td>0</td>\n",
       "    </tr>\n",
       "    <tr>\n",
       "      <th>4048</th>\n",
       "      <td>4048</td>\n",
       "      <td>-32.145833</td>\n",
       "      <td>115.854167</td>\n",
       "      <td>0</td>\n",
       "    </tr>\n",
       "    <tr>\n",
       "      <th>4049</th>\n",
       "      <td>4049</td>\n",
       "      <td>-31.812500</td>\n",
       "      <td>116.229167</td>\n",
       "      <td>0</td>\n",
       "    </tr>\n",
       "    <tr>\n",
       "      <th>4050</th>\n",
       "      <td>4050</td>\n",
       "      <td>-31.562500</td>\n",
       "      <td>116.062500</td>\n",
       "      <td>0</td>\n",
       "    </tr>\n",
       "  </tbody>\n",
       "</table>\n",
       "<p>4051 rows × 4 columns</p>\n",
       "</div>"
      ],
      "text/plain": [
       "        id  decimalLatitude  decimalLongitude  occurrenceStatus\n",
       "0        0       -37.937500        145.187500                 0\n",
       "1        1       -37.770833        144.979167                 0\n",
       "2        2       -37.979167        145.354167                 0\n",
       "3        3       -37.604167        145.020833                 0\n",
       "4        4       -38.479167        145.645833                 0\n",
       "...    ...              ...               ...               ...\n",
       "4046  4046       -31.895833        116.145833                 0\n",
       "4047  4047       -32.395833        115.770833                 0\n",
       "4048  4048       -32.145833        115.854167                 0\n",
       "4049  4049       -31.812500        116.229167                 0\n",
       "4050  4050       -31.562500        116.062500                 0\n",
       "\n",
       "[4051 rows x 4 columns]"
      ]
     },
     "execution_count": 76,
     "metadata": {},
     "output_type": "execute_result"
    }
   ],
   "source": [
    "test = pd.read_csv('test submission.csv')\n",
    "test"
   ]
  },
  {
   "cell_type": "code",
   "execution_count": 77,
   "id": "24ed6642",
   "metadata": {},
   "outputs": [
    {
     "data": {
      "text/html": [
       "<div>\n",
       "<style scoped>\n",
       "    .dataframe tbody tr th:only-of-type {\n",
       "        vertical-align: middle;\n",
       "    }\n",
       "\n",
       "    .dataframe tbody tr th {\n",
       "        vertical-align: top;\n",
       "    }\n",
       "\n",
       "    .dataframe thead th {\n",
       "        text-align: right;\n",
       "    }\n",
       "</style>\n",
       "<table border=\"1\" class=\"dataframe\">\n",
       "  <thead>\n",
       "    <tr style=\"text-align: right;\">\n",
       "      <th></th>\n",
       "      <th>id</th>\n",
       "      <th>decimalLatitude</th>\n",
       "      <th>decimalLongitude</th>\n",
       "    </tr>\n",
       "    <tr>\n",
       "      <th>occurrenceStatus</th>\n",
       "      <th></th>\n",
       "      <th></th>\n",
       "      <th></th>\n",
       "    </tr>\n",
       "  </thead>\n",
       "  <tbody>\n",
       "    <tr>\n",
       "      <th>0</th>\n",
       "      <td>2116</td>\n",
       "      <td>2116</td>\n",
       "      <td>2116</td>\n",
       "    </tr>\n",
       "    <tr>\n",
       "      <th>1</th>\n",
       "      <td>1935</td>\n",
       "      <td>1935</td>\n",
       "      <td>1935</td>\n",
       "    </tr>\n",
       "  </tbody>\n",
       "</table>\n",
       "</div>"
      ],
      "text/plain": [
       "                    id  decimalLatitude  decimalLongitude\n",
       "occurrenceStatus                                         \n",
       "0                 2116             2116              2116\n",
       "1                 1935             1935              1935"
      ]
     },
     "execution_count": 77,
     "metadata": {},
     "output_type": "execute_result"
    }
   ],
   "source": [
    "test.groupby('occurrenceStatus').count()"
   ]
  },
  {
   "cell_type": "code",
   "execution_count": null,
   "id": "48bef114",
   "metadata": {},
   "outputs": [],
   "source": []
  }
 ],
 "metadata": {
  "kernelspec": {
   "display_name": "Python 3 (ipykernel)",
   "language": "python",
   "name": "python3"
  },
  "language_info": {
   "codemirror_mode": {
    "name": "ipython",
    "version": 3
   },
   "file_extension": ".py",
   "mimetype": "text/x-python",
   "name": "python",
   "nbconvert_exporter": "python",
   "pygments_lexer": "ipython3",
   "version": "3.9.12"
  }
 },
 "nbformat": 4,
 "nbformat_minor": 5
}
