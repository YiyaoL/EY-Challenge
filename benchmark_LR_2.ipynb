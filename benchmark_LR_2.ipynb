{
 "cells": [
  {
   "cell_type": "code",
   "execution_count": 47,
   "id": "8b86bb33",
   "metadata": {},
   "outputs": [],
   "source": [
    "# Supress Warnings \n",
    "import warnings\n",
    "warnings.filterwarnings('ignore')\n",
    "\n",
    "# Plotting\n",
    "import matplotlib.pyplot as plt\n",
    "\n",
    "# Data science\n",
    "import pandas as pd\n",
    "import numpy as np\n",
    "\n",
    "# Machine Learning\n",
    "from sklearn.linear_model import LogisticRegression\n",
    "from sklearn.metrics import f1_score, accuracy_score, ConfusionMatrixDisplay\n",
    "from sklearn.model_selection import StratifiedKFold\n",
    "from sklearn import preprocessing\n",
    "from numpy import mean, std, random\n",
    "from sklearn import metrics\n",
    "from sklearn.datasets import make_classification\n",
    "from sklearn.model_selection import KFold, cross_val_score\n",
    "from sklearn.linear_model import LogisticRegression\n",
    "from sklearn.metrics import f1_score\n",
    "\n",
    "# Geospatial\n",
    "import xarray as xr\n",
    "import zarr # Not referenced, but required for xarray\n",
    "\n",
    "# Import Planetary Computer tools\n",
    "import fsspec\n",
    "import pystac\n",
    "\n",
    "# Other\n",
    "import os\n",
    "import zipfile\n",
    "from itertools import cycle\n"
   ]
  },
  {
   "cell_type": "code",
   "execution_count": 43,
   "id": "c86c211a",
   "metadata": {},
   "outputs": [],
   "source": [
    "# df is original, df2 is normalized, df3 is the data from 5 testing regions\n",
    "df = pd.read_csv(\"6_primaries.csv\")\n",
    "df = df.drop(['country','continent','stateProvince','Unnamed: 0','gbifID','eventDate','species','key','decimalLatitude', 'decimalLongitude'], \n",
    "              1)\n",
    "df2 = pd.read_csv('6_primaries_normalized.csv').drop(['Unnamed: 0', 'decimalLatitude', 'decimalLongitude'],1)\n",
    "\n",
    "# read in old test data, but use as traning\n",
    "df3 = pd.read_csv('model_test_data_11vars.csv').drop(['Unnamed: 0.1', 'Unnamed: 0', 'gbifID', 'eventDate', 'country',\n",
    "                                                            'continent', 'stateProvince', 'decimalLatitude', 'decimalLongitude',\n",
    "                                                            'aet_mean', 'def_mean', 'pet_mean', 'vpd_mean','q_mean'],1)\n",
    "df3 = df3[ (df3['species'] == 'Litoria Fallax') | (df3['species'] == 'Crinia Signifera') ]"
   ]
  },
  {
   "cell_type": "code",
   "execution_count": 6,
   "id": "3ae04af0",
   "metadata": {},
   "outputs": [
    {
     "data": {
      "text/html": [
       "<div>\n",
       "<style scoped>\n",
       "    .dataframe tbody tr th:only-of-type {\n",
       "        vertical-align: middle;\n",
       "    }\n",
       "\n",
       "    .dataframe tbody tr th {\n",
       "        vertical-align: top;\n",
       "    }\n",
       "\n",
       "    .dataframe thead th {\n",
       "        text-align: right;\n",
       "    }\n",
       "</style>\n",
       "<table border=\"1\" class=\"dataframe\">\n",
       "  <thead>\n",
       "    <tr style=\"text-align: right;\">\n",
       "      <th></th>\n",
       "      <th>occurrenceStatus</th>\n",
       "      <th>normalized_ppt_mean</th>\n",
       "      <th>normalized_srad_mean</th>\n",
       "      <th>normalized_tmax_mean</th>\n",
       "      <th>normalized_tmin_mean</th>\n",
       "      <th>normalized_vap_mean</th>\n",
       "      <th>normalized_ws_mean</th>\n",
       "    </tr>\n",
       "  </thead>\n",
       "  <tbody>\n",
       "    <tr>\n",
       "      <th>0</th>\n",
       "      <td>0</td>\n",
       "      <td>0.013023</td>\n",
       "      <td>0.013477</td>\n",
       "      <td>0.010380</td>\n",
       "      <td>0.008058</td>\n",
       "      <td>0.010088</td>\n",
       "      <td>0.012405</td>\n",
       "    </tr>\n",
       "    <tr>\n",
       "      <th>1</th>\n",
       "      <td>0</td>\n",
       "      <td>0.012496</td>\n",
       "      <td>0.013287</td>\n",
       "      <td>0.013917</td>\n",
       "      <td>0.014849</td>\n",
       "      <td>0.014225</td>\n",
       "      <td>0.014817</td>\n",
       "    </tr>\n",
       "    <tr>\n",
       "      <th>2</th>\n",
       "      <td>0</td>\n",
       "      <td>0.017151</td>\n",
       "      <td>0.013311</td>\n",
       "      <td>0.013294</td>\n",
       "      <td>0.014386</td>\n",
       "      <td>0.013966</td>\n",
       "      <td>0.013461</td>\n",
       "    </tr>\n",
       "    <tr>\n",
       "      <th>3</th>\n",
       "      <td>0</td>\n",
       "      <td>0.011218</td>\n",
       "      <td>0.013485</td>\n",
       "      <td>0.013908</td>\n",
       "      <td>0.013345</td>\n",
       "      <td>0.013509</td>\n",
       "      <td>0.012356</td>\n",
       "    </tr>\n",
       "    <tr>\n",
       "      <th>4</th>\n",
       "      <td>0</td>\n",
       "      <td>0.014923</td>\n",
       "      <td>0.013330</td>\n",
       "      <td>0.013624</td>\n",
       "      <td>0.014854</td>\n",
       "      <td>0.014188</td>\n",
       "      <td>0.013989</td>\n",
       "    </tr>\n",
       "  </tbody>\n",
       "</table>\n",
       "</div>"
      ],
      "text/plain": [
       "   occurrenceStatus  normalized_ppt_mean  normalized_srad_mean  \\\n",
       "0                 0             0.013023              0.013477   \n",
       "1                 0             0.012496              0.013287   \n",
       "2                 0             0.017151              0.013311   \n",
       "3                 0             0.011218              0.013485   \n",
       "4                 0             0.014923              0.013330   \n",
       "\n",
       "   normalized_tmax_mean  normalized_tmin_mean  normalized_vap_mean  \\\n",
       "0              0.010380              0.008058             0.010088   \n",
       "1              0.013917              0.014849             0.014225   \n",
       "2              0.013294              0.014386             0.013966   \n",
       "3              0.013908              0.013345             0.013509   \n",
       "4              0.013624              0.014854             0.014188   \n",
       "\n",
       "   normalized_ws_mean  \n",
       "0            0.012405  \n",
       "1            0.014817  \n",
       "2            0.013461  \n",
       "3            0.012356  \n",
       "4            0.013989  "
      ]
     },
     "execution_count": 6,
     "metadata": {},
     "output_type": "execute_result"
    }
   ],
   "source": [
    "df2.head()"
   ]
  },
  {
   "cell_type": "code",
   "execution_count": 8,
   "id": "41182cb3",
   "metadata": {},
   "outputs": [
    {
     "data": {
      "text/html": [
       "<div>\n",
       "<style scoped>\n",
       "    .dataframe tbody tr th:only-of-type {\n",
       "        vertical-align: middle;\n",
       "    }\n",
       "\n",
       "    .dataframe tbody tr th {\n",
       "        vertical-align: top;\n",
       "    }\n",
       "\n",
       "    .dataframe thead th {\n",
       "        text-align: right;\n",
       "    }\n",
       "</style>\n",
       "<table border=\"1\" class=\"dataframe\">\n",
       "  <thead>\n",
       "    <tr style=\"text-align: right;\">\n",
       "      <th></th>\n",
       "      <th>species</th>\n",
       "      <th>occurrenceStatus</th>\n",
       "      <th>key</th>\n",
       "      <th>ppt_mean</th>\n",
       "      <th>srad_mean</th>\n",
       "      <th>tmax_mean</th>\n",
       "      <th>tmin_mean</th>\n",
       "      <th>vap_mean</th>\n",
       "      <th>ws_mean</th>\n",
       "    </tr>\n",
       "  </thead>\n",
       "  <tbody>\n",
       "    <tr>\n",
       "      <th>0</th>\n",
       "      <td>Crinia Signifera</td>\n",
       "      <td>0</td>\n",
       "      <td>1</td>\n",
       "      <td>81.216667</td>\n",
       "      <td>198.766667</td>\n",
       "      <td>23.756668</td>\n",
       "      <td>13.061669</td>\n",
       "      <td>1.433333</td>\n",
       "      <td>3.653333</td>\n",
       "    </tr>\n",
       "    <tr>\n",
       "      <th>1</th>\n",
       "      <td>Crinia Signifera</td>\n",
       "      <td>0</td>\n",
       "      <td>2</td>\n",
       "      <td>91.050000</td>\n",
       "      <td>199.566667</td>\n",
       "      <td>23.498334</td>\n",
       "      <td>14.031668</td>\n",
       "      <td>1.478333</td>\n",
       "      <td>4.345000</td>\n",
       "    </tr>\n",
       "    <tr>\n",
       "      <th>2</th>\n",
       "      <td>Crinia Signifera</td>\n",
       "      <td>0</td>\n",
       "      <td>3</td>\n",
       "      <td>90.416667</td>\n",
       "      <td>196.750000</td>\n",
       "      <td>23.260002</td>\n",
       "      <td>12.676668</td>\n",
       "      <td>1.400167</td>\n",
       "      <td>3.593333</td>\n",
       "    </tr>\n",
       "    <tr>\n",
       "      <th>8</th>\n",
       "      <td>Crinia Signifera</td>\n",
       "      <td>0</td>\n",
       "      <td>10</td>\n",
       "      <td>61.850000</td>\n",
       "      <td>201.200000</td>\n",
       "      <td>23.833335</td>\n",
       "      <td>10.403335</td>\n",
       "      <td>1.233833</td>\n",
       "      <td>2.513333</td>\n",
       "    </tr>\n",
       "    <tr>\n",
       "      <th>9</th>\n",
       "      <td>Crinia Signifera</td>\n",
       "      <td>0</td>\n",
       "      <td>11</td>\n",
       "      <td>90.416667</td>\n",
       "      <td>196.750000</td>\n",
       "      <td>23.260002</td>\n",
       "      <td>12.676668</td>\n",
       "      <td>1.400167</td>\n",
       "      <td>3.593333</td>\n",
       "    </tr>\n",
       "  </tbody>\n",
       "</table>\n",
       "</div>"
      ],
      "text/plain": [
       "            species  occurrenceStatus  key   ppt_mean   srad_mean  tmax_mean  \\\n",
       "0  Crinia Signifera                 0    1  81.216667  198.766667  23.756668   \n",
       "1  Crinia Signifera                 0    2  91.050000  199.566667  23.498334   \n",
       "2  Crinia Signifera                 0    3  90.416667  196.750000  23.260002   \n",
       "8  Crinia Signifera                 0   10  61.850000  201.200000  23.833335   \n",
       "9  Crinia Signifera                 0   11  90.416667  196.750000  23.260002   \n",
       "\n",
       "   tmin_mean  vap_mean   ws_mean  \n",
       "0  13.061669  1.433333  3.653333  \n",
       "1  14.031668  1.478333  4.345000  \n",
       "2  12.676668  1.400167  3.593333  \n",
       "8  10.403335  1.233833  2.513333  \n",
       "9  12.676668  1.400167  3.593333  "
      ]
     },
     "execution_count": 8,
     "metadata": {},
     "output_type": "execute_result"
    }
   ],
   "source": [
    "df3.head()"
   ]
  },
  {
   "cell_type": "markdown",
   "id": "446497a9",
   "metadata": {},
   "source": [
    "**Possible problem is that we don't have enough training data.** \n",
    "\n",
    "**This LR_2 notebook will try to (1) use LR1_testing data (unbalanced) as training, test on self & on LR1_training data(balanced), (2) use LR1_testing and LR1_training both as training ,test on itself, (3)maybe in another new notebook, generate new pseudoabsence data for the unbalanced set.**"
   ]
  },
  {
   "cell_type": "markdown",
   "id": "51b45354",
   "metadata": {},
   "source": [
    "## Model1: LR on 6 vars, all normalized, switch training and testing data\n",
    "**i.e., df2 as testing, df3 as training**"
   ]
  },
  {
   "cell_type": "code",
   "execution_count": 13,
   "id": "69d13737",
   "metadata": {},
   "outputs": [
    {
     "name": "stdout",
     "output_type": "stream",
     "text": [
      "F1 Score: 0.8009808574592628\n",
      "Accuracy: 0.7190710138454667\n"
     ]
    },
    {
     "data": {
      "image/png": "[encoded data removed]",
      "text/plain": [
       "<Figure size 288x288 with 2 Axes>"
      ]
     },
     "metadata": {
      "needs_background": "light"
     },
     "output_type": "display_data"
    },
    {
     "name": "stdout",
     "output_type": "stream",
     "text": [
      "Accuracy: 0.718 (0.014)\n"
     ]
    }
   ],
   "source": [
    "# Train model1, but since training data is unbalanced, need to weigh\n",
    "model1 = LogisticRegression(class_weight = 'balanced')\n",
    "\n",
    "# Separate the predictor variables from the response\n",
    "X = df3.drop(['occurrenceStatus','species','key'], 1)\n",
    "y = df3.occurrenceStatus.astype(int)\n",
    "\n",
    "# Prepare a test set with new region\n",
    "X_test = df2.drop(['occurrenceStatus'],1)\n",
    "y_true= df2['occurrenceStatus']\n",
    "\n",
    "# Fit model\n",
    "model1.fit(X, y)\n",
    "\n",
    "# Use model1 to predict on its own training set and print test results\n",
    "y_predictself = model1.predict(X)\n",
    "print(f\"F1 Score: {np.mean(f1_score(y, y_predictself))}\")\n",
    "print(f\"Accuracy: {np.mean(accuracy_score(y, y_predictself))}\")\n",
    "\n",
    "# Draw confusion matrix\n",
    "disp = ConfusionMatrixDisplay.from_estimator(model1, X, y, display_labels=['Absent', 'Present'], cmap='Blues')\n",
    "disp.figure_.set_size_inches((4,4))\n",
    "disp.ax_.set_title('Model Level 1: Logistic\\nRegression Model In-Sample Results')\n",
    "plt.show()\n",
    "\n",
    "#a K-fold shuffle test with itself\n",
    "cv = KFold(n_splits=10, random_state=1, shuffle=True)\n",
    "# evaluate model\n",
    "scores = cross_val_score(model1, X, y, scoring='accuracy', cv=cv, n_jobs=-1)\n",
    "# report performance\n",
    "print('Accuracy: %.3f (%.3f)' % (mean(scores), std(scores)))"
   ]
  },
  {
   "cell_type": "markdown",
   "id": "35477a63",
   "metadata": {},
   "source": [
    "**Test model 1 on other area**"
   ]
  },
  {
   "cell_type": "code",
   "execution_count": 27,
   "id": "6c56f210",
   "metadata": {},
   "outputs": [
    {
     "name": "stdout",
     "output_type": "stream",
     "text": [
      "F1 Score: 0.0\n",
      "Accuracy: 0.0\n"
     ]
    },
    {
     "data": {
      "image/png": "[encoded data removed]",
      "text/plain": [
       "<Figure size 288x288 with 2 Axes>"
      ]
     },
     "metadata": {
      "needs_background": "light"
     },
     "output_type": "display_data"
    }
   ],
   "source": [
    "# Use model1 to predict on Greater Sydney Area and print test results\n",
    "y_predicted = model1.predict(X_test[:2790])\n",
    "print(f\"F1 Score: {np.mean(f1_score(y_true[:2790], y_predicted[:2790]))}\")\n",
    "print(f\"Accuracy: {np.mean(accuracy_score(y_true[:2790], y_predicted[:2790]))}\")\n",
    "\n",
    "# Draw confusion matrix\n",
    "disp = ConfusionMatrixDisplay.from_estimator(model1, X_test[:2790], y_true[:2790], display_labels=['Absent', 'Present'], cmap='GnBu')\n",
    "disp.figure_.set_size_inches((4,4))\n",
    "disp.ax_.set_title('Model Level 1: Logistic\\nRegression Model In-Sample Results')\n",
    "plt.show()"
   ]
  },
  {
   "cell_type": "markdown",
   "id": "9baed2cf",
   "metadata": {},
   "source": [
    "## Model2: LR on 6 vars, all normalized, use everything as training data\n",
    "**i.e., read in df4, the 11var training set, concat with df3(but without dropping the 5 new vars)**"
   ]
  },
  {
   "cell_type": "code",
   "execution_count": 50,
   "id": "9bdc9c24",
   "metadata": {},
   "outputs": [
    {
     "name": "stdout",
     "output_type": "stream",
     "text": [
      "F1 Score: 0.7004092441020703\n",
      "Accuracy: 0.6575399009356081\n"
     ]
    },
    {
     "data": {
      "image/png": "[encoded data removed]",
      "text/plain": [
       "<Figure size 288x288 with 2 Axes>"
      ]
     },
     "metadata": {
      "needs_background": "light"
     },
     "output_type": "display_data"
    },
    {
     "name": "stdout",
     "output_type": "stream",
     "text": [
      "Accuracy: 0.656 (0.010)\n",
      "              precision    recall  f1-score   support\n",
      "\n",
      "           0       0.56      0.65      0.60      5787\n",
      "           1       0.74      0.67      0.70      8749\n",
      "\n",
      "    accuracy                           0.66     14536\n",
      "   macro avg       0.65      0.66      0.65     14536\n",
      "weighted avg       0.67      0.66      0.66     14536\n",
      "\n"
     ]
    }
   ],
   "source": [
    "# Train model2, but since training data is unbalanced, need to weigh\n",
    "model2 = LogisticRegression(class_weight = 'balanced')\n",
    "\n",
    "# make sure their column names are the same to concat\n",
    "df2.columns = ['occurrenceStatus', 'ppt_mean', 'srad_mean','tmax_mean', 'tmin_mean', 'vap_mean', 'ws_mean']\n",
    "X = pd.concat([df3.drop(['occurrenceStatus','species','key'], 1), df2.drop(['occurrenceStatus'],1)])\n",
    "y = pd.concat([df3.occurrenceStatus.astype(int), df2['occurrenceStatus']])\n",
    "\n",
    "# Fit model\n",
    "model2.fit(X, y)\n",
    "\n",
    "# Use model1 to predict on its own training set and print test results\n",
    "y_predictself = model2.predict(X)\n",
    "print(f\"F1 Score: {np.mean(f1_score(y, y_predictself))}\")\n",
    "print(f\"Accuracy: {np.mean(accuracy_score(y, y_predictself))}\")\n",
    "\n",
    "# Draw confusion matrix\n",
    "disp = ConfusionMatrixDisplay.from_estimator(model2, X, y, display_labels=['Absent', 'Present'], cmap='Blues')\n",
    "disp.figure_.set_size_inches((4,4))\n",
    "disp.ax_.set_title('Model Level 1: Logistic\\nRegression Model In-Sample Results')\n",
    "plt.show()\n",
    "\n",
    "#a K-fold shuffle test with itself\n",
    "cv = KFold(n_splits=10, random_state=1, shuffle=True)\n",
    "# evaluate model scores = cross_val_score(model2, X, y, scoring='accuracy', cv=cv, n_jobs=-1)\n",
    "# report performance\n",
    "print('Accuracy: %.3f (%.3f)' % (mean(scores), std(scores)))\n",
    "print( metrics.classification_report(y, model2.predict(X)))"
   ]
  },
  {
   "cell_type": "markdown",
   "id": "e5a5abf2",
   "metadata": {},
   "source": [
    "## Model3: LR on 11 vars, all normalized, use everything as training data\n",
    "**i.e., df2 + df3 as training**\n",
    "### Stopped here w6 Tue bc had no Greater Sydney 11 vars data"
   ]
  },
  {
   "cell_type": "code",
   "execution_count": 56,
   "id": "17e9acab",
   "metadata": {},
   "outputs": [],
   "source": [
    "df4 = pd.read_csv('model_data_11vars.csv')\n",
    "df3 = pd.read_csv(\"6_primaries.csv\").drop(['Unnamed: 0', 'gbifID', 'eventDate', 'country', 'continent',\n",
    "       'stateProvince', 'decimalLatitude', 'decimalLongitude', 'species','key'],1)"
   ]
  },
  {
   "cell_type": "code",
   "execution_count": 57,
   "id": "bce51216",
   "metadata": {},
   "outputs": [
    {
     "data": {
      "text/plain": [
       "Index(['occurrenceStatus', 'ppt_mean', 'srad_mean', 'tmax_mean', 'tmin_mean',\n",
       "       'vap_mean', 'ws_mean'],\n",
       "      dtype='object')"
      ]
     },
     "execution_count": 57,
     "metadata": {},
     "output_type": "execute_result"
    }
   ],
   "source": [
    "df3.columns"
   ]
  },
  {
   "cell_type": "code",
   "execution_count": 156,
   "id": "c8d5ece4",
   "metadata": {},
   "outputs": [
    {
     "data": {
      "text/html": [
       "<div>\n",
       "<style scoped>\n",
       "    .dataframe tbody tr th:only-of-type {\n",
       "        vertical-align: middle;\n",
       "    }\n",
       "\n",
       "    .dataframe tbody tr th {\n",
       "        vertical-align: top;\n",
       "    }\n",
       "\n",
       "    .dataframe thead th {\n",
       "        text-align: right;\n",
       "    }\n",
       "</style>\n",
       "<table border=\"1\" class=\"dataframe\">\n",
       "  <thead>\n",
       "    <tr style=\"text-align: right;\">\n",
       "      <th></th>\n",
       "      <th>occurrenceStatus</th>\n",
       "      <th>ppt_mean</th>\n",
       "      <th>srad_mean</th>\n",
       "      <th>tmax_mean</th>\n",
       "      <th>tmin_mean</th>\n",
       "      <th>vap_mean</th>\n",
       "      <th>ws_mean</th>\n",
       "    </tr>\n",
       "  </thead>\n",
       "  <tbody>\n",
       "    <tr>\n",
       "      <th>0</th>\n",
       "      <td>0</td>\n",
       "      <td>73.350000</td>\n",
       "      <td>197.01666</td>\n",
       "      <td>17.966670</td>\n",
       "      <td>7.081669</td>\n",
       "      <td>0.991667</td>\n",
       "      <td>3.368333</td>\n",
       "    </tr>\n",
       "    <tr>\n",
       "      <th>1</th>\n",
       "      <td>0</td>\n",
       "      <td>70.383330</td>\n",
       "      <td>194.25000</td>\n",
       "      <td>24.088335</td>\n",
       "      <td>13.050002</td>\n",
       "      <td>1.398333</td>\n",
       "      <td>4.023333</td>\n",
       "    </tr>\n",
       "    <tr>\n",
       "      <th>2</th>\n",
       "      <td>0</td>\n",
       "      <td>96.600000</td>\n",
       "      <td>194.60000</td>\n",
       "      <td>23.010002</td>\n",
       "      <td>12.643335</td>\n",
       "      <td>1.372833</td>\n",
       "      <td>3.655000</td>\n",
       "    </tr>\n",
       "    <tr>\n",
       "      <th>3</th>\n",
       "      <td>0</td>\n",
       "      <td>63.183334</td>\n",
       "      <td>197.13333</td>\n",
       "      <td>24.073334</td>\n",
       "      <td>11.728335</td>\n",
       "      <td>1.328000</td>\n",
       "      <td>3.355000</td>\n",
       "    </tr>\n",
       "    <tr>\n",
       "      <th>4</th>\n",
       "      <td>0</td>\n",
       "      <td>84.050000</td>\n",
       "      <td>194.86667</td>\n",
       "      <td>23.581669</td>\n",
       "      <td>13.054999</td>\n",
       "      <td>1.394667</td>\n",
       "      <td>3.798333</td>\n",
       "    </tr>\n",
       "    <tr>\n",
       "      <th>...</th>\n",
       "      <td>...</td>\n",
       "      <td>...</td>\n",
       "      <td>...</td>\n",
       "      <td>...</td>\n",
       "      <td>...</td>\n",
       "      <td>...</td>\n",
       "      <td>...</td>\n",
       "    </tr>\n",
       "    <tr>\n",
       "      <th>5575</th>\n",
       "      <td>1</td>\n",
       "      <td>73.933334</td>\n",
       "      <td>192.83333</td>\n",
       "      <td>23.933336</td>\n",
       "      <td>13.291668</td>\n",
       "      <td>1.412000</td>\n",
       "      <td>4.300000</td>\n",
       "    </tr>\n",
       "    <tr>\n",
       "      <th>5576</th>\n",
       "      <td>1</td>\n",
       "      <td>73.933334</td>\n",
       "      <td>192.83333</td>\n",
       "      <td>23.933336</td>\n",
       "      <td>13.291668</td>\n",
       "      <td>1.412000</td>\n",
       "      <td>4.300000</td>\n",
       "    </tr>\n",
       "    <tr>\n",
       "      <th>5577</th>\n",
       "      <td>1</td>\n",
       "      <td>85.166664</td>\n",
       "      <td>195.68333</td>\n",
       "      <td>23.146670</td>\n",
       "      <td>12.186667</td>\n",
       "      <td>1.352667</td>\n",
       "      <td>3.651667</td>\n",
       "    </tr>\n",
       "    <tr>\n",
       "      <th>5578</th>\n",
       "      <td>1</td>\n",
       "      <td>90.416664</td>\n",
       "      <td>194.50000</td>\n",
       "      <td>23.373333</td>\n",
       "      <td>13.133334</td>\n",
       "      <td>1.400833</td>\n",
       "      <td>3.763333</td>\n",
       "    </tr>\n",
       "    <tr>\n",
       "      <th>5579</th>\n",
       "      <td>1</td>\n",
       "      <td>67.966670</td>\n",
       "      <td>198.06667</td>\n",
       "      <td>23.875002</td>\n",
       "      <td>10.618335</td>\n",
       "      <td>1.255167</td>\n",
       "      <td>2.731667</td>\n",
       "    </tr>\n",
       "  </tbody>\n",
       "</table>\n",
       "<p>5580 rows × 7 columns</p>\n",
       "</div>"
      ],
      "text/plain": [
       "      occurrenceStatus   ppt_mean  srad_mean  tmax_mean  tmin_mean  vap_mean  \\\n",
       "0                    0  73.350000  197.01666  17.966670   7.081669  0.991667   \n",
       "1                    0  70.383330  194.25000  24.088335  13.050002  1.398333   \n",
       "2                    0  96.600000  194.60000  23.010002  12.643335  1.372833   \n",
       "3                    0  63.183334  197.13333  24.073334  11.728335  1.328000   \n",
       "4                    0  84.050000  194.86667  23.581669  13.054999  1.394667   \n",
       "...                ...        ...        ...        ...        ...       ...   \n",
       "5575                 1  73.933334  192.83333  23.933336  13.291668  1.412000   \n",
       "5576                 1  73.933334  192.83333  23.933336  13.291668  1.412000   \n",
       "5577                 1  85.166664  195.68333  23.146670  12.186667  1.352667   \n",
       "5578                 1  90.416664  194.50000  23.373333  13.133334  1.400833   \n",
       "5579                 1  67.966670  198.06667  23.875002  10.618335  1.255167   \n",
       "\n",
       "       ws_mean  \n",
       "0     3.368333  \n",
       "1     4.023333  \n",
       "2     3.655000  \n",
       "3     3.355000  \n",
       "4     3.798333  \n",
       "...        ...  \n",
       "5575  4.300000  \n",
       "5576  4.300000  \n",
       "5577  3.651667  \n",
       "5578  3.763333  \n",
       "5579  2.731667  \n",
       "\n",
       "[5580 rows x 7 columns]"
      ]
     },
     "execution_count": 156,
     "metadata": {},
     "output_type": "execute_result"
    }
   ],
   "source": [
    "# what is the range of the 6 vars? \n",
    "df3 = pd.read_csv(\"6_primaries.csv\")\n",
    "df3 = df3[['occurrenceStatus','ppt_mean','srad_mean','tmax_mean','tmin_mean','vap_mean','ws_mean']]\n",
    "df3"
   ]
  }
 ],
 "metadata": {
  "kernelspec": {
   "display_name": "Python [conda env:EY_env]",
   "language": "python",
   "name": "conda-env-EY_env-py"
  },
  "language_info": {
   "codemirror_mode": {
    "name": "ipython",
    "version": 3
   },
   "file_extension": ".py",
   "mimetype": "text/x-python",
   "name": "python",
   "nbconvert_exporter": "python",
   "pygments_lexer": "ipython3",
   "version": "3.9.12"
  }
 },
 "nbformat": 4,
 "nbformat_minor": 5
}
