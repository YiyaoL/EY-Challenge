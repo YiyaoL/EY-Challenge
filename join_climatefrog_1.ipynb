{
 "cells": [
  {
   "cell_type": "code",
   "execution_count": 3,
   "id": "f3b65674",
   "metadata": {},
   "outputs": [],
   "source": [
    "# Supress Warnings \n",
    "import warnings\n",
    "warnings.filterwarnings('ignore')\n",
    "# Plotting\n",
    "import matplotlib.pyplot as plt\n",
    "# Data science\n",
    "import pandas as pd\n",
    "import numpy as np\n",
    "# Geospatial\n",
    "import contextily as cx\n",
    "import xarray as xr\n",
    "import zarr # Not referenced, but required for xarray\n",
    "# Import Planetary Computer tools\n",
    "import fsspec\n",
    "import pystac\n",
    "# Other\n",
    "import os\n",
    "import zipfile\n",
    "from itertools import cycle"
   ]
  },
  {
   "cell_type": "code",
   "execution_count": 94,
   "id": "43638f34",
   "metadata": {},
   "outputs": [],
   "source": [
    "# read in the stuff we need to join. Read in as dataarray, not as dataset, so that we can use .rename('data')\n",
    "weather_data1 = xr.open_dataarray('weather_data_1012.nc')\n",
    "weather_data2 = xr.open_dataarray('weather_data_1314.nc')\n",
    "weather_data3 = xr.open_dataarray('weather_data_1516.nc')\n",
    "weather_data4 = xr.open_dataarray('weather_data_17.nc')\n",
    "weather_data5 = xr.open_dataarray('weather_data_18.nc')\n",
    "weather_data6 = xr.open_dataarray('weather_data_1920.nc')\n",
    "frogs = pd.read_csv('30kfrogs.csv')\n",
    "# drop 2021 and 2022 data\n",
    "frogs = frogs[frogs['eventDate'] < '2021-01-01 00:00:00']"
   ]
  },
  {
   "cell_type": "markdown",
   "id": "9fb2766b",
   "metadata": {},
   "source": [
    "**1. Try to drop null values along band(fail)**"
   ]
  },
  {
   "cell_type": "raw",
   "id": "88d779e5",
   "metadata": {},
   "source": [
    "xr.ufuncs.isnan(weather_data1).sum(),xr.ufuncs.isfinite(weather_data1).sum()\n",
    "np.asarray(weather_data1.x[30]).shape\n",
    "weather_data1.data_vars\n",
    "weather_data1_temp = weather_data1.dropna(dim = 'y')\n",
    "weather_data1.x[-1].plot()"
   ]
  },
  {
   "cell_type": "markdown",
   "id": "b6171e27",
   "metadata": {},
   "source": [
    "**2. Try to merge all 6 datasets/ dataarrays(also fail)**"
   ]
  },
  {
   "cell_type": "raw",
   "id": "58920846",
   "metadata": {},
   "source": [
    "weather_data= xr.merge([weather_data1,weather_data2, weather_data3,weather_data4, weather_data5]).to_array()"
   ]
  },
  {
   "cell_type": "markdown",
   "id": "fc07a694",
   "metadata": {},
   "source": [
    "**3. Try to run join function before merging (work)**"
   ]
  },
  {
   "cell_type": "code",
   "execution_count": 95,
   "id": "ab98493b",
   "metadata": {},
   "outputs": [],
   "source": [
    "def join_frogs(frogs, data):\n",
    "    \"\"\"Collects the data for each frog location and joins it onto the frog data \n",
    "    Arguments:\n",
    "    frogs -- dataframe containing the response variable along with [\"decimalLongitude\", \"decimalLatitude\", \"key\"]\n",
    "    data -- xarray dataarray of features, indexed with geocoordinates\n",
    "    \"\"\"\n",
    "    return frogs.merge(\n",
    "        (data.rename('data').sel(\n",
    "                x=xr.DataArray(frogs.decimalLongitude, dims=\"key\", coords={\"key\": frogs.key}), \n",
    "                y=xr.DataArray(frogs.decimalLatitude, dims=\"key\", coords={\"key\": frogs.key}),\n",
    "                method=\"nearest\"\n",
    "            )\n",
    "            .to_dataframe()\n",
    "            .assign(val = lambda x: x.iloc[:, -1])\n",
    "            [['val']]\n",
    "            .reset_index()\n",
    "            .drop_duplicates()\n",
    "            .pivot(index=\"key\", columns=\"band\", values=\"val\")\n",
    "            .reset_index()\n",
    "        ),\n",
    "        on = ['key'],\n",
    "        how = 'inner'\n",
    "    )"
   ]
  },
  {
   "cell_type": "code",
   "execution_count": 96,
   "id": "b02fbb8a",
   "metadata": {},
   "outputs": [],
   "source": [
    "climatefrog1012 = join_frogs(frogs[frogs['eventDate'] < '2013-01-01 00:00:00']\n",
    "                             , weather_data1)\n",
    "climatefrog1012.to_csv('climate_frog1012.csv')\n",
    "\n",
    "climatefrog1314 = join_frogs(frogs[('2012-12-31 23:59:59'< frogs['eventDate']) & ( frogs['eventDate']< '2015-01-01 00:00:00')]\n",
    "                             , weather_data2)\n",
    "climatefrog1314.to_csv('climate_frog1314.csv')\n",
    "\n",
    "climatefrog1516 = join_frogs(frogs[('2014-12-31 23:59:59'< frogs['eventDate']) & ( frogs['eventDate']< '2017-01-01 00:00:00')]\n",
    "                            , weather_data3)\n",
    "climatefrog1516.to_csv('climate_frog1516.csv')\n",
    "\n",
    "climatefrog17 = join_frogs(frogs[('2016-12-31 23:59:59'< frogs['eventDate']) & ( frogs['eventDate']< '2018-01-01 00:00:00')]\n",
    "                           , weather_data4)\n",
    "climatefrog17.to_csv('climate_frog17.csv')\n",
    "\n",
    "climatefrog18 = join_frogs(frogs[('2017-12-31 23:59:59'< frogs['eventDate']) & ( frogs['eventDate']< '2019-01-01 00:00:00')]\n",
    "                           , weather_data5)\n",
    "climatefrog18.to_csv('climate_frog18.csv')\n",
    "\n",
    "climatefrog1920 = join_frogs(frogs[('2018-12-31 23:59:59'< frogs['eventDate']) & ( frogs['eventDate']< '2021-01-01 00:00:00')]\n",
    "                             , weather_data6)\n",
    "climatefrog1920.to_csv('climate_frog1920.csv')"
   ]
  },
  {
   "cell_type": "code",
   "execution_count": 97,
   "id": "34c8d6b2",
   "metadata": {},
   "outputs": [
    {
     "name": "stdout",
     "output_type": "stream",
     "text": [
      "(7879, 24)\n",
      "(1896, 24)\n",
      "(2359, 24)\n",
      "(3615, 24)\n",
      "(12527, 24)\n",
      "(35066, 24)\n"
     ]
    }
   ],
   "source": [
    "# Now we can join the 6 dfs using pandas. First check their shape\n",
    "for i in [climatefrog1012,climatefrog1314,climatefrog1516,climatefrog17,climatefrog18,climatefrog1920]:\n",
    "    print(i.shape)\n",
    "climatefrog1020 = pd.concat([climatefrog1012,climatefrog1314,climatefrog1516,climatefrog17,climatefrog18,climatefrog1920])\n",
    "climatefrog1020.to_csv('climate_frog1020.csv')"
   ]
  }
 ],
 "metadata": {
  "kernelspec": {
   "display_name": "Python [conda env:EY_env]",
   "language": "python",
   "name": "conda-env-EY_env-py"
  },
  "language_info": {
   "codemirror_mode": {
    "name": "ipython",
    "version": 3
   },
   "file_extension": ".py",
   "mimetype": "text/x-python",
   "name": "python",
   "nbconvert_exporter": "python",
   "pygments_lexer": "ipython3",
   "version": "3.9.12"
  }
 },
 "nbformat": 4,
 "nbformat_minor": 5
}
